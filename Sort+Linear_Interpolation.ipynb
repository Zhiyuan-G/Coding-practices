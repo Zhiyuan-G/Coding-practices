{
 "cells": [
  {
   "cell_type": "code",
   "execution_count": 1,
   "id": "ba1f4db0-cf61-4d57-bcb5-d4bbe186f4f9",
   "metadata": {},
   "outputs": [],
   "source": [
    "def func (x_knots,y_knots,n,x_input):\n",
    "    x = x_knots\n",
    "    y = y_knots\n",
    "    for i in range(n):\n",
    "        for j in range(0, n-i-1):\n",
    "            if x[j] > x[j+1]:\n",
    "                x[j], x[j+1] = x[j+1], x[j]\n",
    "                y[j], y[j+1] = y[j+1], y[j]\n",
    "                \n",
    "    Extrapolate = True\n",
    "    for i in range(n-1):\n",
    "        if x[i] <= x_input <= x[i+1]:\n",
    "            yp = y[i] + ((y[i+1]-y[i])/(x[i+1]-x[i])) * (x_input - x[i])\n",
    "            Extrapolate = False\n",
    "            \n",
    "    if Extrapolate == True:\n",
    "        if x_input <= x[0]:\n",
    "            yp = y[0] + ((y[1]-y[0])/(x[1]-x[0])) * (x_input - x[0])\n",
    "        else:\n",
    "            yp = y[-2] + ((y[-1]-y[-2])/(x[-1]-x[-2])) * (x_input - x[-2])\n",
    "            \n",
    "    return(yp)"
   ]
  },
  {
   "cell_type": "code",
   "execution_count": 2,
   "id": "ae47048f-797c-4195-b184-da043ec1cf80",
   "metadata": {},
   "outputs": [
    {
     "data": {
      "text/plain": [
       "-10.0"
      ]
     },
     "execution_count": 2,
     "metadata": {},
     "output_type": "execute_result"
    }
   ],
   "source": [
    "n = 5 \n",
    "x_knots = [1,2,-2,-1,0]\n",
    "y_knots = [0.0,5.0,0.0,10,15]\n",
    "func(x_knots = x_knots,y_knots = y_knots,n=n,x_input = -3)"
   ]
  },
  {
   "cell_type": "code",
   "execution_count": 3,
   "id": "de337a9d-fb35-4a67-a475-3d0d3cfcea81",
   "metadata": {},
   "outputs": [
    {
     "data": {
      "text/plain": [
       "13.5"
      ]
     },
     "execution_count": 3,
     "metadata": {},
     "output_type": "execute_result"
    }
   ],
   "source": [
    "n = 6\n",
    "x_knots = [-2,-1,-1,0,1,2]\n",
    "y_knots = [0,10,12,15,0,5]\n",
    "func(x_knots = x_knots,y_knots = y_knots,n=n,x_input = -0.5)"
   ]
  }
 ],
 "metadata": {
  "kernelspec": {
   "display_name": "local-venv",
   "language": "python",
   "name": "local-venv"
  },
  "language_info": {
   "codemirror_mode": {
    "name": "ipython",
    "version": 3
   },
   "file_extension": ".py",
   "mimetype": "text/x-python",
   "name": "python",
   "nbconvert_exporter": "python",
   "pygments_lexer": "ipython3",
   "version": "3.10.5"
  }
 },
 "nbformat": 4,
 "nbformat_minor": 5
}
