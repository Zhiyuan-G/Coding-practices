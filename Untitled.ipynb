{
 "cells": [
  {
   "cell_type": "code",
   "execution_count": 21,
   "id": "4abfa631-4432-4da0-9378-1a818ec69e04",
   "metadata": {},
   "outputs": [],
   "source": [
    "def LI (n,x_knots,y_knots,x_input):\n",
    "    if n<1 or n>100000:\n",
    "        return\n",
    "    x_sort=x_knots\n",
    "    y_sort=y_knots\n",
    "    for j in range(n-1):\n",
    "        for k in range(n-j-1):\n",
    "            if x_knots[k]>x_knots[k+1]:\n",
    "                x_sort[k],x_sort[k+1]=x_knots[k+1],x_knots[k]\n",
    "                y_sort[k],y_sort[k+1]=y_knots[k+1],y_knots[k]\n",
    "        \n",
    "        for z in range(n-1):\n",
    "            if z==0 or z==1 and x_input<=x_sort[1]: \n",
    "                y=(y_sort[1]-y_sort[0])/(x_sort[1]-x_sort[0])*x_input+ y_sort[0]-(y_sort[1]-y_sort[0])/(x_sort[1]-x_sort[0])*x_sort[0]\n",
    "            elif z==n-1 and x_input>x_sort[n-1]: \n",
    "                y=(y_sort[n]-y_sort[n-1])/(x_sort[n]-x_sort[n-1])*x_input+y_sort[n-1] - (y_sort[n]-y_sort[n-1])/(x_sort[n]-x_sort[n-1])*x_sort[n-1]\n",
    "            elif  x_input>=x_sort[z] and x_input<x_sort[z+1]:\n",
    "                y=(y_sort[z+1]-y_sort[z])/(x_sort[z+1]-x_sort[z])*x_input+y_sort[z] - (y_sort[z+1]-y_sort[z])/(x_sort[z+1]-x_sort[z])*x_sort[z]\n",
    "        \n",
    "    return(y)"
   ]
  },
  {
   "cell_type": "code",
   "execution_count": 23,
   "id": "a1e2587a-1eaf-4435-8b1c-5ee3ce8aa180",
   "metadata": {},
   "outputs": [
    {
     "data": {
      "text/plain": [
       "13.5"
      ]
     },
     "execution_count": 23,
     "metadata": {},
     "output_type": "execute_result"
    }
   ],
   "source": [
    "n=5\n",
    "x_knots = [-2,-1,0,1,2]\n",
    "y_knots = [0,10,15,0,5]\n",
    "LI(x_knots = x_knots,y_knots = y_knots,n=n,x_input = -0.3)"
   ]
  },
  {
   "cell_type": "code",
   "execution_count": 517,
   "id": "171454d6-2952-4eb8-aced-e3708f9d8b29",
   "metadata": {},
   "outputs": [
    {
     "name": "stdout",
     "output_type": "stream",
     "text": [
      "Town3\n",
      "35\n",
      "10\n",
      "[[10.]]\n",
      "Town3\n",
      "['Town1']\n",
      "['Town5']\n"
     ]
    }
   ],
   "source": [
    "import numpy as np\n",
    "import pandas as pd\n",
    "import csv\n",
    "from sklearn import linear_model\n",
    "\n",
    "'''\n",
    "df = pd.DataFrame({'Town1': [70,65,87,67],\n",
    "                    'Town2': [95,88,91,101],\n",
    "                    'Town3': [34,45,23,34],\n",
    "                    'Town4': [46,24,35,55],\n",
    "                    'Town5': [10,32,10,15],\n",
    "                    'NYC': [50,51,78,88],})\n",
    "\n",
    "'''\n",
    "    \n"
   ]
  },
  {
   "cell_type": "code",
   "execution_count": 598,
   "id": "4d05cfd3-3c75-4c4c-8df2-41e23a09d42e",
   "metadata": {},
   "outputs": [],
   "source": [
    "def main (file):\n",
    "    #my_data = genfromtxt(f_name, delimiter=',',skip_header = 1)\n",
    "    dfOpenFile = pd.read_csv(readPath, header=0, sep=\",\") \n",
    "    df=dfOpenFile.dropna() \n",
    "    with open(file, newline='') as f:\n",
    "        reader = csv.reader(f)\n",
    "        kk=next(reader)\n",
    "    NYC_df=df.iloc[:,kk.index('NYC')]\n",
    "    df=df.drop(columns=['NYC'])\n",
    "    kk.pop(kk.index('NYC'))\n",
    "\n",
    "\n",
    "    #1\n",
    "    std_val=df.std()\n",
    "    y1=std_val.idxmax()\n",
    "    print(y1)\n",
    "\n",
    "    #2\n",
    "    Town2_val=df.iloc[:,kk.index('Town2')]\n",
    "    #Town2_idx=np.where((Town2_val>=90) & (Town2_val<=100))\n",
    "    #y2=np.round(df.iloc[Town2_idx,-1].median())   \n",
    "    y2=NYC_df.loc[(Town2_val>=90) & (Town2_val<=100)] \n",
    "    y2=y2.median()\n",
    "    y2=round(y2)\n",
    "    print(y2)\n",
    "\n",
    "    #3\n",
    "    n=0\n",
    "    for i in range(df.shape[1]-1):\n",
    "        x = np.array(list(range(df.shape[0])))\n",
    "        y = df.iloc[:,i]\n",
    "        A = np.vstack([x, np.ones(len(x))]).T\n",
    "        m, c = np.linalg.lstsq(A, y, rcond=None)[0]\n",
    "        n +=m\n",
    "    y3=round(n)\n",
    "    print(y3)\n",
    "\n",
    "    #\n",
    "    regr = linear_model.LinearRegression()\n",
    "    n=0\n",
    "    for i in range(df.shape[1]-1):\n",
    "        x = np.linspace(0, df.shape[0]-1,df.shape[0])+1#np.array(list(range(df.shape[0])))\n",
    "        y = np.array(df.iloc[:,i])\n",
    "    # Train the model using the training sets\n",
    "        x = x.reshape(-1, 1)\n",
    "        y = y.reshape(-1, 1)\n",
    "        regr.fit(x, y)\n",
    "        m=regr.coef_\n",
    "        b=regr.intercept_\n",
    "        n +=np.round(m)\n",
    "    y3=n\n",
    "    print(y3)\n",
    "    # Make predictions using the testing set\n",
    "    # diabetes_y_pred = regr.predict(diabetes_X_test)\n",
    "\n",
    "\n",
    "\n",
    "    #4\n",
    "    \n",
    "    residual=[]\n",
    "    for i in range(df.shape[1]-1):\n",
    "        x = np.array(list(range(df.shape[0])))+1\n",
    "        y = df.iloc[:,i]\n",
    "        A = np.vstack([x, np.ones(len(x))]).T\n",
    "        m, c = np.linalg.lstsq(A, y, rcond=None)[0]\n",
    "        res=0\n",
    "        for j in range(df.shape[0]):\n",
    "            res += (df.iloc[j,-1] - (m * (j+1) + c)) ** 2\n",
    "        residual.append(res)\n",
    "    y4=residual.index(min(residual))\n",
    "    with open(file, mode='r', encoding='utf-8') as f:\n",
    "        reader = csv.reader(f, delimiter=',')\n",
    "        kk=next(reader)\n",
    "    y4=kk[y4]  \n",
    "    print(y4)\n",
    "    \n",
    "\n",
    "    #\n",
    "    regr = linear_model.LinearRegression()\n",
    "    residual=[]\n",
    "    n=0\n",
    "    for i in range(df.shape[1]-1):\n",
    "        x = np.linspace(0, df.shape[0]-1,df.shape[0])#np.array(list(range(df.shape[0])))\n",
    "        y = np.array(df.iloc[:,i])\n",
    "    # Train the model using the training sets\n",
    "        x = x.reshape(-1, 1)\n",
    "        y = y.reshape(-1, 1)\n",
    "        regr.fit(x, y)  \n",
    "        yi=np.array(NYC_df)\n",
    "        yi=yi.reshape(-1, 1)\n",
    "        res = (regr.predict(x)-yi) ** 2\n",
    "        residual.append(sum(res))\n",
    "    y4=residual.index(np.min(residual))\n",
    "    y4=kk[y4]  \n",
    "    print(y4)\n",
    "\n",
    "\n",
    "    #5\n",
    "    \n",
    "    residual=np.zeros((df.shape[1]-1,df.shape[1]-1))\n",
    "    ran=range(df.shape[1]-1)\n",
    "    for i in ran:\n",
    "        for j in ran[i+1:df.shape[1]:1]:\n",
    "            xi = np.array(list(range(df.shape[0])))+1\n",
    "            yi = df.iloc[:,i]\n",
    "            Ai = np.vstack([xi, np.ones(len(xi))]).T\n",
    "            mi, ci = np.linalg.lstsq(Ai, yi, rcond=None)[0]\n",
    "            xj = np.array(list(range(df.shape[0])))+1\n",
    "            yj = df.iloc[:,j]\n",
    "            Aj = np.vstack([xj, np.ones(len(xj))]).T\n",
    "            mj, cj = np.linalg.lstsq(Aj, yj, rcond=None)[0]            \n",
    "            res=0\n",
    "            for q in range(df.shape[0]):\n",
    "                res += (NYC_df[q] - (mi * (q+1) + ci)- (mj * (q+1) + cj)) ** 2\n",
    "            residual[i,j]=res\n",
    "    zero_idx=np.where(residual==0)\n",
    "    residual[zero_idx[0],zero_idx[1]]=np.max(residual)\n",
    "    y_temp=np.where(residual==np.min(residual))\n",
    "    y5=np.array(kk)[y_temp[0]]\n",
    "    y6=np.array(kk)[y_temp[1]]\n",
    "    print(y5)\n",
    "    print(y6)\n",
    "    #y5=residual.index(min(residual))\n",
    "    #y4=kk[y4]  \n",
    "    #print(y4)        \n",
    "    \n",
    "    regr = linear_model.LinearRegression()\n",
    "    residual=np.zeros((df.shape[1]-1,df.shape[1]-1))\n",
    "    n=0\n",
    "    ran=range(df.shape[1]-1)\n",
    "    for i in ran:\n",
    "        for j in ran[i+1:df.shape[1]:1]:\n",
    "            x = np.array(list(range(df.shape[0])))+1\n",
    "            #x2= np.array(list(range(df.shape[0]*2)))\n",
    "            x2=np.column_stack((x,x))\n",
    "            feature_cols = [kk[i],kk[j]]         \n",
    "            y=np.array(df[feature_cols])\n",
    "           # y = np.array(df.iloc[:,i])\n",
    "        # Train the model using the training sets\n",
    "            x= x.reshape(-1, 1)\n",
    "            x2 = x2.reshape(-1, 1)\n",
    "            y = y.reshape(-1, 1)\n",
    "            regr.fit(x2, y)  \n",
    "            yi=np.array(NYC_df)\n",
    "            yi=yi.reshape(-1, 1)\n",
    "            res = (regr.predict(x)-yi) ** 2\n",
    "            residual[i,j]=sum(res)\n",
    "    zero_idx=np.where(residual==0)\n",
    "    residual[zero_idx[0],zero_idx[1]]=np.max(residual)\n",
    "    y_temp=np.where(residual==np.min(residual))\n",
    "    y5=np.array(kk)[y_temp[0]]\n",
    "    y6=np.array(kk)[y_temp[1]]\n",
    "    print(y5)\n",
    "    print(y6)\n",
    "    return(y1,y2,y3,y4,y5,y6)"
   ]
  },
  {
   "cell_type": "code",
   "execution_count": 599,
   "id": "f76c4fd3-39af-48f8-b31a-4608f57df91d",
   "metadata": {},
   "outputs": [
    {
     "name": "stdout",
     "output_type": "stream",
     "text": [
      "Town3\n",
      "35\n",
      "10\n",
      "[[10.]]\n",
      "Town5\n",
      "Town3\n",
      "['Town1']\n",
      "['Town4']\n",
      "['Town1']\n",
      "['Town5']\n"
     ]
    },
    {
     "data": {
      "text/plain": [
       "('Town3',\n",
       " 35,\n",
       " array([[10.]]),\n",
       " 'Town3',\n",
       " array(['Town1'], dtype='<U5'),\n",
       " array(['Town5'], dtype='<U5'))"
      ]
     },
     "execution_count": 599,
     "metadata": {},
     "output_type": "execute_result"
    }
   ],
   "source": [
    "file = \"E:\\data.csv\"\n",
    "main(file)"
   ]
  },
  {
   "cell_type": "code",
   "execution_count": 580,
   "id": "8455ae13-bbc6-4e79-aa0e-7776f4529f8e",
   "metadata": {},
   "outputs": [
    {
     "ename": "NameError",
     "evalue": "name 'xi' is not defined",
     "output_type": "error",
     "traceback": [
      "\u001b[1;31m---------------------------------------------------------------------------\u001b[0m",
      "\u001b[1;31mNameError\u001b[0m                                 Traceback (most recent call last)",
      "Input \u001b[1;32mIn [591]\u001b[0m, in \u001b[0;36m<cell line: 1>\u001b[1;34m()\u001b[0m\n\u001b[1;32m----> 1\u001b[0m \u001b[43mxi\u001b[49m\n",
      "\u001b[1;31mNameError\u001b[0m: name 'xi' is not defined"
     ]
    }
   ],
   "source": [
    "xi"
   ]
  },
  {
   "cell_type": "code",
   "execution_count": 553,
   "id": "da0a248d-15ec-49c5-b18c-d86081710ab3",
   "metadata": {},
   "outputs": [
    {
     "data": {
      "text/plain": [
       "'Town2'"
      ]
     },
     "execution_count": 553,
     "metadata": {},
     "output_type": "execute_result"
    }
   ],
   "source": [
    "kk[ii]"
   ]
  },
  {
   "cell_type": "code",
   "execution_count": 28,
   "id": "487b9b1b-42d4-42f8-af8d-a1d6e98144a0",
   "metadata": {},
   "outputs": [],
   "source": [
    "\n",
    "import numpy as np\n",
    "import pandas as pd\n",
    "df2 = pd.DataFrame({'A': 1.,\n",
    "                    'B': pd.Timestamp('20130102'),\n",
    "                    'C': pd.Series(1, index=list(range(4)), dtype='float32'),\n",
    "                    'D': np.array([3] * 4, dtype='int32'),\n",
    "                    'E': pd.Categorical([\"test\", \"train\", \"test\", \"train\"]),\n",
    "                    'F': 'foo'})"
   ]
  },
  {
   "cell_type": "code",
   "execution_count": 507,
   "id": "04dccd86-833a-4368-bc4e-bb19188ceb13",
   "metadata": {},
   "outputs": [
    {
     "data": {
      "text/plain": [
       "0     32\n",
       "1     91\n",
       "2     78\n",
       "3     92\n",
       "4     99\n",
       "5    102\n",
       "Name: Town2, dtype: int64"
      ]
     },
     "execution_count": 507,
     "metadata": {},
     "output_type": "execute_result"
    }
   ],
   "source": [
    "Town2_val"
   ]
  },
  {
   "cell_type": "code",
   "execution_count": 35,
   "id": "7a840f4f-83d5-4138-9dc8-0e7a1cf22058",
   "metadata": {},
   "outputs": [
    {
     "data": {
      "text/plain": [
       "<bound method DataFrame.to_numpy of      A          B    C  D      E    F\n",
       "0  1.0 2013-01-02  1.0  3   test  foo\n",
       "1  1.0 2013-01-02  1.0  3  train  foo\n",
       "2  1.0 2013-01-02  1.0  3   test  foo\n",
       "3  1.0 2013-01-02  1.0  3  train  foo>"
      ]
     },
     "execution_count": 35,
     "metadata": {},
     "output_type": "execute_result"
    }
   ],
   "source": [
    "df2.to_numpy"
   ]
  },
  {
   "cell_type": "code",
   "execution_count": 36,
   "id": "bc3f71e3-3c0f-408d-98bd-8be542df2d54",
   "metadata": {},
   "outputs": [
    {
     "data": {
      "text/html": [
       "<div>\n",
       "<style scoped>\n",
       "    .dataframe tbody tr th:only-of-type {\n",
       "        vertical-align: middle;\n",
       "    }\n",
       "\n",
       "    .dataframe tbody tr th {\n",
       "        vertical-align: top;\n",
       "    }\n",
       "\n",
       "    .dataframe thead th {\n",
       "        text-align: right;\n",
       "    }\n",
       "</style>\n",
       "<table border=\"1\" class=\"dataframe\">\n",
       "  <thead>\n",
       "    <tr style=\"text-align: right;\">\n",
       "      <th></th>\n",
       "      <th>A</th>\n",
       "      <th>C</th>\n",
       "      <th>D</th>\n",
       "    </tr>\n",
       "  </thead>\n",
       "  <tbody>\n",
       "    <tr>\n",
       "      <th>count</th>\n",
       "      <td>4.0</td>\n",
       "      <td>4.0</td>\n",
       "      <td>4.0</td>\n",
       "    </tr>\n",
       "    <tr>\n",
       "      <th>mean</th>\n",
       "      <td>1.0</td>\n",
       "      <td>1.0</td>\n",
       "      <td>3.0</td>\n",
       "    </tr>\n",
       "    <tr>\n",
       "      <th>std</th>\n",
       "      <td>0.0</td>\n",
       "      <td>0.0</td>\n",
       "      <td>0.0</td>\n",
       "    </tr>\n",
       "    <tr>\n",
       "      <th>min</th>\n",
       "      <td>1.0</td>\n",
       "      <td>1.0</td>\n",
       "      <td>3.0</td>\n",
       "    </tr>\n",
       "    <tr>\n",
       "      <th>25%</th>\n",
       "      <td>1.0</td>\n",
       "      <td>1.0</td>\n",
       "      <td>3.0</td>\n",
       "    </tr>\n",
       "    <tr>\n",
       "      <th>50%</th>\n",
       "      <td>1.0</td>\n",
       "      <td>1.0</td>\n",
       "      <td>3.0</td>\n",
       "    </tr>\n",
       "    <tr>\n",
       "      <th>75%</th>\n",
       "      <td>1.0</td>\n",
       "      <td>1.0</td>\n",
       "      <td>3.0</td>\n",
       "    </tr>\n",
       "    <tr>\n",
       "      <th>max</th>\n",
       "      <td>1.0</td>\n",
       "      <td>1.0</td>\n",
       "      <td>3.0</td>\n",
       "    </tr>\n",
       "  </tbody>\n",
       "</table>\n",
       "</div>"
      ],
      "text/plain": [
       "         A    C    D\n",
       "count  4.0  4.0  4.0\n",
       "mean   1.0  1.0  3.0\n",
       "std    0.0  0.0  0.0\n",
       "min    1.0  1.0  3.0\n",
       "25%    1.0  1.0  3.0\n",
       "50%    1.0  1.0  3.0\n",
       "75%    1.0  1.0  3.0\n",
       "max    1.0  1.0  3.0"
      ]
     },
     "execution_count": 36,
     "metadata": {},
     "output_type": "execute_result"
    }
   ],
   "source": [
    "df2.describe()"
   ]
  },
  {
   "cell_type": "code",
   "execution_count": 37,
   "id": "fe8d90a7-600c-4eba-be1a-b0572640e0de",
   "metadata": {},
   "outputs": [],
   "source": [
    "dates = pd.date_range('20130101', periods=6)\n",
    "df = pd.DataFrame(np.random.randn(6, 4), index=dates, columns=list('ABCD'))"
   ]
  },
  {
   "cell_type": "code",
   "execution_count": 38,
   "id": "5c4d0ddc-e6c1-4925-be34-13b8383be7b1",
   "metadata": {},
   "outputs": [
    {
     "data": {
      "text/html": [
       "<div>\n",
       "<style scoped>\n",
       "    .dataframe tbody tr th:only-of-type {\n",
       "        vertical-align: middle;\n",
       "    }\n",
       "\n",
       "    .dataframe tbody tr th {\n",
       "        vertical-align: top;\n",
       "    }\n",
       "\n",
       "    .dataframe thead th {\n",
       "        text-align: right;\n",
       "    }\n",
       "</style>\n",
       "<table border=\"1\" class=\"dataframe\">\n",
       "  <thead>\n",
       "    <tr style=\"text-align: right;\">\n",
       "      <th></th>\n",
       "      <th>A</th>\n",
       "      <th>B</th>\n",
       "      <th>C</th>\n",
       "      <th>D</th>\n",
       "    </tr>\n",
       "  </thead>\n",
       "  <tbody>\n",
       "    <tr>\n",
       "      <th>2013-01-01</th>\n",
       "      <td>-0.599581</td>\n",
       "      <td>-0.325387</td>\n",
       "      <td>0.043770</td>\n",
       "      <td>-0.807695</td>\n",
       "    </tr>\n",
       "    <tr>\n",
       "      <th>2013-01-02</th>\n",
       "      <td>-1.149637</td>\n",
       "      <td>1.043626</td>\n",
       "      <td>-0.613265</td>\n",
       "      <td>1.491557</td>\n",
       "    </tr>\n",
       "    <tr>\n",
       "      <th>2013-01-03</th>\n",
       "      <td>0.325807</td>\n",
       "      <td>0.676734</td>\n",
       "      <td>1.824029</td>\n",
       "      <td>-0.109409</td>\n",
       "    </tr>\n",
       "    <tr>\n",
       "      <th>2013-01-04</th>\n",
       "      <td>0.852429</td>\n",
       "      <td>1.431290</td>\n",
       "      <td>0.339904</td>\n",
       "      <td>-1.553358</td>\n",
       "    </tr>\n",
       "    <tr>\n",
       "      <th>2013-01-05</th>\n",
       "      <td>-1.307194</td>\n",
       "      <td>0.667440</td>\n",
       "      <td>-0.701044</td>\n",
       "      <td>-1.436214</td>\n",
       "    </tr>\n",
       "    <tr>\n",
       "      <th>2013-01-06</th>\n",
       "      <td>-0.012568</td>\n",
       "      <td>-0.356821</td>\n",
       "      <td>-0.422529</td>\n",
       "      <td>1.993419</td>\n",
       "    </tr>\n",
       "  </tbody>\n",
       "</table>\n",
       "</div>"
      ],
      "text/plain": [
       "                   A         B         C         D\n",
       "2013-01-01 -0.599581 -0.325387  0.043770 -0.807695\n",
       "2013-01-02 -1.149637  1.043626 -0.613265  1.491557\n",
       "2013-01-03  0.325807  0.676734  1.824029 -0.109409\n",
       "2013-01-04  0.852429  1.431290  0.339904 -1.553358\n",
       "2013-01-05 -1.307194  0.667440 -0.701044 -1.436214\n",
       "2013-01-06 -0.012568 -0.356821 -0.422529  1.993419"
      ]
     },
     "execution_count": 38,
     "metadata": {},
     "output_type": "execute_result"
    }
   ],
   "source": [
    "df"
   ]
  },
  {
   "cell_type": "code",
   "execution_count": 39,
   "id": "41cdcae8-3249-4569-8a3d-f33955872cd5",
   "metadata": {},
   "outputs": [
    {
     "data": {
      "text/html": [
       "<div>\n",
       "<style scoped>\n",
       "    .dataframe tbody tr th:only-of-type {\n",
       "        vertical-align: middle;\n",
       "    }\n",
       "\n",
       "    .dataframe tbody tr th {\n",
       "        vertical-align: top;\n",
       "    }\n",
       "\n",
       "    .dataframe thead th {\n",
       "        text-align: right;\n",
       "    }\n",
       "</style>\n",
       "<table border=\"1\" class=\"dataframe\">\n",
       "  <thead>\n",
       "    <tr style=\"text-align: right;\">\n",
       "      <th></th>\n",
       "      <th>D</th>\n",
       "      <th>C</th>\n",
       "      <th>B</th>\n",
       "      <th>A</th>\n",
       "    </tr>\n",
       "  </thead>\n",
       "  <tbody>\n",
       "    <tr>\n",
       "      <th>2013-01-01</th>\n",
       "      <td>-0.807695</td>\n",
       "      <td>0.043770</td>\n",
       "      <td>-0.325387</td>\n",
       "      <td>-0.599581</td>\n",
       "    </tr>\n",
       "    <tr>\n",
       "      <th>2013-01-02</th>\n",
       "      <td>1.491557</td>\n",
       "      <td>-0.613265</td>\n",
       "      <td>1.043626</td>\n",
       "      <td>-1.149637</td>\n",
       "    </tr>\n",
       "    <tr>\n",
       "      <th>2013-01-03</th>\n",
       "      <td>-0.109409</td>\n",
       "      <td>1.824029</td>\n",
       "      <td>0.676734</td>\n",
       "      <td>0.325807</td>\n",
       "    </tr>\n",
       "    <tr>\n",
       "      <th>2013-01-04</th>\n",
       "      <td>-1.553358</td>\n",
       "      <td>0.339904</td>\n",
       "      <td>1.431290</td>\n",
       "      <td>0.852429</td>\n",
       "    </tr>\n",
       "    <tr>\n",
       "      <th>2013-01-05</th>\n",
       "      <td>-1.436214</td>\n",
       "      <td>-0.701044</td>\n",
       "      <td>0.667440</td>\n",
       "      <td>-1.307194</td>\n",
       "    </tr>\n",
       "    <tr>\n",
       "      <th>2013-01-06</th>\n",
       "      <td>1.993419</td>\n",
       "      <td>-0.422529</td>\n",
       "      <td>-0.356821</td>\n",
       "      <td>-0.012568</td>\n",
       "    </tr>\n",
       "  </tbody>\n",
       "</table>\n",
       "</div>"
      ],
      "text/plain": [
       "                   D         C         B         A\n",
       "2013-01-01 -0.807695  0.043770 -0.325387 -0.599581\n",
       "2013-01-02  1.491557 -0.613265  1.043626 -1.149637\n",
       "2013-01-03 -0.109409  1.824029  0.676734  0.325807\n",
       "2013-01-04 -1.553358  0.339904  1.431290  0.852429\n",
       "2013-01-05 -1.436214 -0.701044  0.667440 -1.307194\n",
       "2013-01-06  1.993419 -0.422529 -0.356821 -0.012568"
      ]
     },
     "execution_count": 39,
     "metadata": {},
     "output_type": "execute_result"
    }
   ],
   "source": [
    "df.sort_index(axis=1, ascending=False)"
   ]
  },
  {
   "cell_type": "code",
   "execution_count": 45,
   "id": "6d0b4db5-919e-4c08-8521-5b191260d95b",
   "metadata": {},
   "outputs": [],
   "source": [
    "dates = pd.date_range('20130101', periods=6)\n",
    "df = pd.DataFrame(np.random.randn(6, 4), index=dates, columns=list('BACD'))\n"
   ]
  },
  {
   "cell_type": "code",
   "execution_count": 46,
   "id": "4368ca31-c90a-4b0d-84ca-516b6b96eba5",
   "metadata": {},
   "outputs": [
    {
     "data": {
      "text/html": [
       "<div>\n",
       "<style scoped>\n",
       "    .dataframe tbody tr th:only-of-type {\n",
       "        vertical-align: middle;\n",
       "    }\n",
       "\n",
       "    .dataframe tbody tr th {\n",
       "        vertical-align: top;\n",
       "    }\n",
       "\n",
       "    .dataframe thead th {\n",
       "        text-align: right;\n",
       "    }\n",
       "</style>\n",
       "<table border=\"1\" class=\"dataframe\">\n",
       "  <thead>\n",
       "    <tr style=\"text-align: right;\">\n",
       "      <th></th>\n",
       "      <th>B</th>\n",
       "      <th>A</th>\n",
       "      <th>C</th>\n",
       "      <th>D</th>\n",
       "    </tr>\n",
       "  </thead>\n",
       "  <tbody>\n",
       "    <tr>\n",
       "      <th>2013-01-01</th>\n",
       "      <td>-0.663651</td>\n",
       "      <td>0.117878</td>\n",
       "      <td>1.049578</td>\n",
       "      <td>0.759287</td>\n",
       "    </tr>\n",
       "    <tr>\n",
       "      <th>2013-01-02</th>\n",
       "      <td>0.760670</td>\n",
       "      <td>-1.109767</td>\n",
       "      <td>-0.174109</td>\n",
       "      <td>-0.313875</td>\n",
       "    </tr>\n",
       "    <tr>\n",
       "      <th>2013-01-03</th>\n",
       "      <td>-1.475807</td>\n",
       "      <td>0.674816</td>\n",
       "      <td>0.896752</td>\n",
       "      <td>-1.069242</td>\n",
       "    </tr>\n",
       "    <tr>\n",
       "      <th>2013-01-04</th>\n",
       "      <td>1.437841</td>\n",
       "      <td>1.195342</td>\n",
       "      <td>0.421764</td>\n",
       "      <td>0.661769</td>\n",
       "    </tr>\n",
       "    <tr>\n",
       "      <th>2013-01-05</th>\n",
       "      <td>-0.285306</td>\n",
       "      <td>-1.729009</td>\n",
       "      <td>-0.463348</td>\n",
       "      <td>-1.310834</td>\n",
       "    </tr>\n",
       "    <tr>\n",
       "      <th>2013-01-06</th>\n",
       "      <td>0.093970</td>\n",
       "      <td>-0.486293</td>\n",
       "      <td>-1.797265</td>\n",
       "      <td>0.774412</td>\n",
       "    </tr>\n",
       "  </tbody>\n",
       "</table>\n",
       "</div>"
      ],
      "text/plain": [
       "                   B         A         C         D\n",
       "2013-01-01 -0.663651  0.117878  1.049578  0.759287\n",
       "2013-01-02  0.760670 -1.109767 -0.174109 -0.313875\n",
       "2013-01-03 -1.475807  0.674816  0.896752 -1.069242\n",
       "2013-01-04  1.437841  1.195342  0.421764  0.661769\n",
       "2013-01-05 -0.285306 -1.729009 -0.463348 -1.310834\n",
       "2013-01-06  0.093970 -0.486293 -1.797265  0.774412"
      ]
     },
     "execution_count": 46,
     "metadata": {},
     "output_type": "execute_result"
    }
   ],
   "source": [
    "df"
   ]
  },
  {
   "cell_type": "code",
   "execution_count": 48,
   "id": "a1922ea7-3e54-4bf3-8aeb-e452bb12c87d",
   "metadata": {},
   "outputs": [
    {
     "data": {
      "text/html": [
       "<div>\n",
       "<style scoped>\n",
       "    .dataframe tbody tr th:only-of-type {\n",
       "        vertical-align: middle;\n",
       "    }\n",
       "\n",
       "    .dataframe tbody tr th {\n",
       "        vertical-align: top;\n",
       "    }\n",
       "\n",
       "    .dataframe thead th {\n",
       "        text-align: right;\n",
       "    }\n",
       "</style>\n",
       "<table border=\"1\" class=\"dataframe\">\n",
       "  <thead>\n",
       "    <tr style=\"text-align: right;\">\n",
       "      <th></th>\n",
       "      <th>D</th>\n",
       "      <th>C</th>\n",
       "      <th>B</th>\n",
       "      <th>A</th>\n",
       "    </tr>\n",
       "  </thead>\n",
       "  <tbody>\n",
       "    <tr>\n",
       "      <th>2013-01-01</th>\n",
       "      <td>0.759287</td>\n",
       "      <td>1.049578</td>\n",
       "      <td>-0.663651</td>\n",
       "      <td>0.117878</td>\n",
       "    </tr>\n",
       "    <tr>\n",
       "      <th>2013-01-02</th>\n",
       "      <td>-0.313875</td>\n",
       "      <td>-0.174109</td>\n",
       "      <td>0.760670</td>\n",
       "      <td>-1.109767</td>\n",
       "    </tr>\n",
       "    <tr>\n",
       "      <th>2013-01-03</th>\n",
       "      <td>-1.069242</td>\n",
       "      <td>0.896752</td>\n",
       "      <td>-1.475807</td>\n",
       "      <td>0.674816</td>\n",
       "    </tr>\n",
       "    <tr>\n",
       "      <th>2013-01-04</th>\n",
       "      <td>0.661769</td>\n",
       "      <td>0.421764</td>\n",
       "      <td>1.437841</td>\n",
       "      <td>1.195342</td>\n",
       "    </tr>\n",
       "    <tr>\n",
       "      <th>2013-01-05</th>\n",
       "      <td>-1.310834</td>\n",
       "      <td>-0.463348</td>\n",
       "      <td>-0.285306</td>\n",
       "      <td>-1.729009</td>\n",
       "    </tr>\n",
       "    <tr>\n",
       "      <th>2013-01-06</th>\n",
       "      <td>0.774412</td>\n",
       "      <td>-1.797265</td>\n",
       "      <td>0.093970</td>\n",
       "      <td>-0.486293</td>\n",
       "    </tr>\n",
       "  </tbody>\n",
       "</table>\n",
       "</div>"
      ],
      "text/plain": [
       "                   D         C         B         A\n",
       "2013-01-01  0.759287  1.049578 -0.663651  0.117878\n",
       "2013-01-02 -0.313875 -0.174109  0.760670 -1.109767\n",
       "2013-01-03 -1.069242  0.896752 -1.475807  0.674816\n",
       "2013-01-04  0.661769  0.421764  1.437841  1.195342\n",
       "2013-01-05 -1.310834 -0.463348 -0.285306 -1.729009\n",
       "2013-01-06  0.774412 -1.797265  0.093970 -0.486293"
      ]
     },
     "execution_count": 48,
     "metadata": {},
     "output_type": "execute_result"
    }
   ],
   "source": [
    "df.sort_index(axis=1, ascending=False)"
   ]
  },
  {
   "cell_type": "code",
   "execution_count": 49,
   "id": "0234938f-d76a-4a61-a7d4-441b70fc0f4f",
   "metadata": {},
   "outputs": [
    {
     "data": {
      "text/plain": [
       "2013-01-01    0.117878\n",
       "2013-01-02   -1.109767\n",
       "2013-01-03    0.674816\n",
       "2013-01-04    1.195342\n",
       "2013-01-05   -1.729009\n",
       "2013-01-06   -0.486293\n",
       "Freq: D, Name: A, dtype: float64"
      ]
     },
     "execution_count": 49,
     "metadata": {},
     "output_type": "execute_result"
    }
   ],
   "source": [
    "df.A"
   ]
  },
  {
   "cell_type": "code",
   "execution_count": 50,
   "id": "cb1fe2cf-2e20-48d3-bdd2-c58291fa2407",
   "metadata": {},
   "outputs": [
    {
     "data": {
      "text/plain": [
       "2013-01-01    0.117878\n",
       "2013-01-02   -1.109767\n",
       "2013-01-03    0.674816\n",
       "2013-01-04    1.195342\n",
       "2013-01-05   -1.729009\n",
       "2013-01-06   -0.486293\n",
       "Freq: D, Name: A, dtype: float64"
      ]
     },
     "execution_count": 50,
     "metadata": {},
     "output_type": "execute_result"
    }
   ],
   "source": [
    "df['A']"
   ]
  },
  {
   "cell_type": "code",
   "execution_count": 51,
   "id": "0efbee24-dfc9-4740-b011-f9decbda3428",
   "metadata": {},
   "outputs": [
    {
     "data": {
      "text/plain": [
       "<pandas.core.indexing._LocIndexer at 0x1c610627d10>"
      ]
     },
     "execution_count": 51,
     "metadata": {},
     "output_type": "execute_result"
    }
   ],
   "source": [
    "df.loc"
   ]
  },
  {
   "cell_type": "code",
   "execution_count": 52,
   "id": "1ca0da34-1f02-4831-a5de-d8e1c5428895",
   "metadata": {},
   "outputs": [
    {
     "data": {
      "text/plain": [
       "B   -0.663651\n",
       "A    0.117878\n",
       "C    1.049578\n",
       "D    0.759287\n",
       "Name: 2013-01-01 00:00:00, dtype: float64"
      ]
     },
     "execution_count": 52,
     "metadata": {},
     "output_type": "execute_result"
    }
   ],
   "source": [
    "df.loc[dates[0]]"
   ]
  },
  {
   "cell_type": "code",
   "execution_count": 53,
   "id": "4152dbdf-f177-47a2-a915-9b4f6e1ec4bf",
   "metadata": {},
   "outputs": [
    {
     "data": {
      "text/html": [
       "<div>\n",
       "<style scoped>\n",
       "    .dataframe tbody tr th:only-of-type {\n",
       "        vertical-align: middle;\n",
       "    }\n",
       "\n",
       "    .dataframe tbody tr th {\n",
       "        vertical-align: top;\n",
       "    }\n",
       "\n",
       "    .dataframe thead th {\n",
       "        text-align: right;\n",
       "    }\n",
       "</style>\n",
       "<table border=\"1\" class=\"dataframe\">\n",
       "  <thead>\n",
       "    <tr style=\"text-align: right;\">\n",
       "      <th></th>\n",
       "      <th>B</th>\n",
       "      <th>A</th>\n",
       "      <th>C</th>\n",
       "      <th>D</th>\n",
       "    </tr>\n",
       "  </thead>\n",
       "  <tbody>\n",
       "    <tr>\n",
       "      <th>2013-01-01</th>\n",
       "      <td>-0.663651</td>\n",
       "      <td>0.117878</td>\n",
       "      <td>1.049578</td>\n",
       "      <td>0.759287</td>\n",
       "    </tr>\n",
       "    <tr>\n",
       "      <th>2013-01-02</th>\n",
       "      <td>0.760670</td>\n",
       "      <td>-1.109767</td>\n",
       "      <td>-0.174109</td>\n",
       "      <td>-0.313875</td>\n",
       "    </tr>\n",
       "    <tr>\n",
       "      <th>2013-01-03</th>\n",
       "      <td>-1.475807</td>\n",
       "      <td>0.674816</td>\n",
       "      <td>0.896752</td>\n",
       "      <td>-1.069242</td>\n",
       "    </tr>\n",
       "    <tr>\n",
       "      <th>2013-01-04</th>\n",
       "      <td>1.437841</td>\n",
       "      <td>1.195342</td>\n",
       "      <td>0.421764</td>\n",
       "      <td>0.661769</td>\n",
       "    </tr>\n",
       "    <tr>\n",
       "      <th>2013-01-05</th>\n",
       "      <td>-0.285306</td>\n",
       "      <td>-1.729009</td>\n",
       "      <td>-0.463348</td>\n",
       "      <td>-1.310834</td>\n",
       "    </tr>\n",
       "    <tr>\n",
       "      <th>2013-01-06</th>\n",
       "      <td>0.093970</td>\n",
       "      <td>-0.486293</td>\n",
       "      <td>-1.797265</td>\n",
       "      <td>0.774412</td>\n",
       "    </tr>\n",
       "  </tbody>\n",
       "</table>\n",
       "</div>"
      ],
      "text/plain": [
       "                   B         A         C         D\n",
       "2013-01-01 -0.663651  0.117878  1.049578  0.759287\n",
       "2013-01-02  0.760670 -1.109767 -0.174109 -0.313875\n",
       "2013-01-03 -1.475807  0.674816  0.896752 -1.069242\n",
       "2013-01-04  1.437841  1.195342  0.421764  0.661769\n",
       "2013-01-05 -0.285306 -1.729009 -0.463348 -1.310834\n",
       "2013-01-06  0.093970 -0.486293 -1.797265  0.774412"
      ]
     },
     "execution_count": 53,
     "metadata": {},
     "output_type": "execute_result"
    }
   ],
   "source": [
    "df.loc[:]"
   ]
  },
  {
   "cell_type": "code",
   "execution_count": 54,
   "id": "1356c315-1294-4dd5-adad-421ccb54fb88",
   "metadata": {},
   "outputs": [
    {
     "data": {
      "text/plain": [
       "A   -1.109767\n",
       "Name: 2013-01-02 00:00:00, dtype: float64"
      ]
     },
     "execution_count": 54,
     "metadata": {},
     "output_type": "execute_result"
    }
   ],
   "source": [
    "df.loc['20130102', ['A']]"
   ]
  },
  {
   "cell_type": "code",
   "execution_count": 55,
   "id": "a2c3199e-90f4-4efa-9a04-cff4f8f63e2f",
   "metadata": {},
   "outputs": [],
   "source": [
    "df2 = df.copy()"
   ]
  },
  {
   "cell_type": "code",
   "execution_count": 56,
   "id": "68f511d8-81a4-48cb-b0bc-b18507421415",
   "metadata": {},
   "outputs": [
    {
     "data": {
      "text/html": [
       "<div>\n",
       "<style scoped>\n",
       "    .dataframe tbody tr th:only-of-type {\n",
       "        vertical-align: middle;\n",
       "    }\n",
       "\n",
       "    .dataframe tbody tr th {\n",
       "        vertical-align: top;\n",
       "    }\n",
       "\n",
       "    .dataframe thead th {\n",
       "        text-align: right;\n",
       "    }\n",
       "</style>\n",
       "<table border=\"1\" class=\"dataframe\">\n",
       "  <thead>\n",
       "    <tr style=\"text-align: right;\">\n",
       "      <th></th>\n",
       "      <th>B</th>\n",
       "      <th>A</th>\n",
       "      <th>C</th>\n",
       "      <th>D</th>\n",
       "    </tr>\n",
       "  </thead>\n",
       "  <tbody>\n",
       "    <tr>\n",
       "      <th>2013-01-01</th>\n",
       "      <td>-0.663651</td>\n",
       "      <td>0.117878</td>\n",
       "      <td>1.049578</td>\n",
       "      <td>0.759287</td>\n",
       "    </tr>\n",
       "    <tr>\n",
       "      <th>2013-01-02</th>\n",
       "      <td>0.760670</td>\n",
       "      <td>-1.109767</td>\n",
       "      <td>-0.174109</td>\n",
       "      <td>-0.313875</td>\n",
       "    </tr>\n",
       "    <tr>\n",
       "      <th>2013-01-03</th>\n",
       "      <td>-1.475807</td>\n",
       "      <td>0.674816</td>\n",
       "      <td>0.896752</td>\n",
       "      <td>-1.069242</td>\n",
       "    </tr>\n",
       "    <tr>\n",
       "      <th>2013-01-04</th>\n",
       "      <td>1.437841</td>\n",
       "      <td>1.195342</td>\n",
       "      <td>0.421764</td>\n",
       "      <td>0.661769</td>\n",
       "    </tr>\n",
       "    <tr>\n",
       "      <th>2013-01-05</th>\n",
       "      <td>-0.285306</td>\n",
       "      <td>-1.729009</td>\n",
       "      <td>-0.463348</td>\n",
       "      <td>-1.310834</td>\n",
       "    </tr>\n",
       "    <tr>\n",
       "      <th>2013-01-06</th>\n",
       "      <td>0.093970</td>\n",
       "      <td>-0.486293</td>\n",
       "      <td>-1.797265</td>\n",
       "      <td>0.774412</td>\n",
       "    </tr>\n",
       "  </tbody>\n",
       "</table>\n",
       "</div>"
      ],
      "text/plain": [
       "                   B         A         C         D\n",
       "2013-01-01 -0.663651  0.117878  1.049578  0.759287\n",
       "2013-01-02  0.760670 -1.109767 -0.174109 -0.313875\n",
       "2013-01-03 -1.475807  0.674816  0.896752 -1.069242\n",
       "2013-01-04  1.437841  1.195342  0.421764  0.661769\n",
       "2013-01-05 -0.285306 -1.729009 -0.463348 -1.310834\n",
       "2013-01-06  0.093970 -0.486293 -1.797265  0.774412"
      ]
     },
     "execution_count": 56,
     "metadata": {},
     "output_type": "execute_result"
    }
   ],
   "source": [
    "df2"
   ]
  },
  {
   "cell_type": "code",
   "execution_count": 58,
   "id": "dab18d62-c710-46c0-ad46-938feb082beb",
   "metadata": {},
   "outputs": [],
   "source": [
    "df2['E'] = ['one', 'one', 'two', 'three', 'four', 'three']"
   ]
  },
  {
   "cell_type": "code",
   "execution_count": 59,
   "id": "4ece1cdb-d4ed-4b4a-bf64-17120f597ed3",
   "metadata": {},
   "outputs": [
    {
     "data": {
      "text/plain": [
       "range(0, 4)"
      ]
     },
     "execution_count": 59,
     "metadata": {},
     "output_type": "execute_result"
    }
   ],
   "source": [
    "range(4)"
   ]
  },
  {
   "cell_type": "code",
   "execution_count": 60,
   "id": "974b92bc-6553-4490-9508-0824392a4601",
   "metadata": {},
   "outputs": [
    {
     "data": {
      "text/plain": [
       "[0, 1, 2, 3]"
      ]
     },
     "execution_count": 60,
     "metadata": {},
     "output_type": "execute_result"
    }
   ],
   "source": [
    "list(range(4))"
   ]
  },
  {
   "cell_type": "code",
   "execution_count": 63,
   "id": "afc454ea-5c0f-443f-b647-683184399b18",
   "metadata": {},
   "outputs": [
    {
     "data": {
      "text/plain": [
       "2013-01-01    1.0\n",
       "2013-01-02    3.0\n",
       "2013-01-03    5.0\n",
       "2013-01-04    NaN\n",
       "2013-01-05    6.0\n",
       "2013-01-06    8.0\n",
       "Freq: D, dtype: float64"
      ]
     },
     "execution_count": 63,
     "metadata": {},
     "output_type": "execute_result"
    }
   ],
   "source": [
    "pd.Series([1, 3, 5, np.nan, 6, 8], index=dates)"
   ]
  },
  {
   "cell_type": "code",
   "execution_count": 64,
   "id": "98071006-7f27-48c2-8e78-9c77017b1582",
   "metadata": {},
   "outputs": [
    {
     "name": "stdout",
     "output_type": "stream",
     "text": [
      "   A  B  C  D  E  F\n",
      "0  a  4  7  1  5  a\n",
      "1  b  5  8  3  3  a\n",
      "2  c  4  9  5  6  a\n",
      "3  d  5  4  7  9  b\n",
      "4  e  5  2  1  2  b\n",
      "5  f  4  3  0  4  b\n"
     ]
    }
   ],
   "source": [
    "df = pd.DataFrame({'A':list('abcdef'),\n",
    "                   'B':[4,5,4,5,5,4],\n",
    "                   'C':[7,8,9,4,2,3],\n",
    "                   'D':[1,3,5,7,1,0],\n",
    "                   'E':[5,3,6,9,2,4],\n",
    "                   'F':list('aaabbb')})\n",
    "\n",
    "print (df)\n",
    "\n",
    "c = ['B','C','D']"
   ]
  },
  {
   "cell_type": "code",
   "execution_count": 65,
   "id": "4d80af6b-e5fd-4f2e-876b-cc3c3f2086d1",
   "metadata": {},
   "outputs": [],
   "source": [
    "c = ['B','C','D']"
   ]
  },
  {
   "cell_type": "code",
   "execution_count": 66,
   "id": "f7a6c4ad-1e08-46e7-b7c7-21d62ebdf137",
   "metadata": {},
   "outputs": [
    {
     "data": {
      "text/plain": [
       "['B', 'C', 'D']"
      ]
     },
     "execution_count": 66,
     "metadata": {},
     "output_type": "execute_result"
    }
   ],
   "source": [
    "c"
   ]
  },
  {
   "cell_type": "code",
   "execution_count": 67,
   "id": "2ce05236-a2fb-4f03-b430-b6af601a3cc6",
   "metadata": {},
   "outputs": [],
   "source": [
    "s = pd.Series(np.random.randint(0, 7, size=5))"
   ]
  },
  {
   "cell_type": "code",
   "execution_count": 68,
   "id": "0f1027be-5cf0-489b-8e73-c483f809a4be",
   "metadata": {},
   "outputs": [
    {
     "data": {
      "text/plain": [
       "0    5\n",
       "1    5\n",
       "2    2\n",
       "3    4\n",
       "4    6\n",
       "dtype: int32"
      ]
     },
     "execution_count": 68,
     "metadata": {},
     "output_type": "execute_result"
    }
   ],
   "source": [
    "s"
   ]
  },
  {
   "cell_type": "code",
   "execution_count": 70,
   "id": "69c9d477-ebf3-4628-adb5-83da0efc0936",
   "metadata": {},
   "outputs": [
    {
     "data": {
      "text/plain": [
       "A  B  C  D  E  F\n",
       "a  4  7  1  5  a    1\n",
       "b  5  8  3  3  a    1\n",
       "c  4  9  5  6  a    1\n",
       "d  5  4  7  9  b    1\n",
       "e  5  2  1  2  b    1\n",
       "f  4  3  0  4  b    1\n",
       "dtype: int64"
      ]
     },
     "execution_count": 70,
     "metadata": {},
     "output_type": "execute_result"
    }
   ],
   "source": [
    "df.value_counts()"
   ]
  },
  {
   "cell_type": "code",
   "execution_count": 71,
   "id": "4c44bf41-59cc-488d-b738-d3cd987e4b04",
   "metadata": {},
   "outputs": [
    {
     "data": {
      "text/html": [
       "<div>\n",
       "<style scoped>\n",
       "    .dataframe tbody tr th:only-of-type {\n",
       "        vertical-align: middle;\n",
       "    }\n",
       "\n",
       "    .dataframe tbody tr th {\n",
       "        vertical-align: top;\n",
       "    }\n",
       "\n",
       "    .dataframe thead th {\n",
       "        text-align: right;\n",
       "    }\n",
       "</style>\n",
       "<table border=\"1\" class=\"dataframe\">\n",
       "  <thead>\n",
       "    <tr style=\"text-align: right;\">\n",
       "      <th></th>\n",
       "      <th>A</th>\n",
       "      <th>B</th>\n",
       "      <th>C</th>\n",
       "      <th>D</th>\n",
       "      <th>E</th>\n",
       "      <th>F</th>\n",
       "    </tr>\n",
       "  </thead>\n",
       "  <tbody>\n",
       "    <tr>\n",
       "      <th>0</th>\n",
       "      <td>a</td>\n",
       "      <td>4</td>\n",
       "      <td>7</td>\n",
       "      <td>1</td>\n",
       "      <td>5</td>\n",
       "      <td>a</td>\n",
       "    </tr>\n",
       "    <tr>\n",
       "      <th>1</th>\n",
       "      <td>b</td>\n",
       "      <td>5</td>\n",
       "      <td>8</td>\n",
       "      <td>3</td>\n",
       "      <td>3</td>\n",
       "      <td>a</td>\n",
       "    </tr>\n",
       "    <tr>\n",
       "      <th>2</th>\n",
       "      <td>c</td>\n",
       "      <td>4</td>\n",
       "      <td>9</td>\n",
       "      <td>5</td>\n",
       "      <td>6</td>\n",
       "      <td>a</td>\n",
       "    </tr>\n",
       "    <tr>\n",
       "      <th>3</th>\n",
       "      <td>d</td>\n",
       "      <td>5</td>\n",
       "      <td>4</td>\n",
       "      <td>7</td>\n",
       "      <td>9</td>\n",
       "      <td>b</td>\n",
       "    </tr>\n",
       "    <tr>\n",
       "      <th>4</th>\n",
       "      <td>e</td>\n",
       "      <td>5</td>\n",
       "      <td>2</td>\n",
       "      <td>1</td>\n",
       "      <td>2</td>\n",
       "      <td>b</td>\n",
       "    </tr>\n",
       "    <tr>\n",
       "      <th>5</th>\n",
       "      <td>f</td>\n",
       "      <td>4</td>\n",
       "      <td>3</td>\n",
       "      <td>0</td>\n",
       "      <td>4</td>\n",
       "      <td>b</td>\n",
       "    </tr>\n",
       "  </tbody>\n",
       "</table>\n",
       "</div>"
      ],
      "text/plain": [
       "   A  B  C  D  E  F\n",
       "0  a  4  7  1  5  a\n",
       "1  b  5  8  3  3  a\n",
       "2  c  4  9  5  6  a\n",
       "3  d  5  4  7  9  b\n",
       "4  e  5  2  1  2  b\n",
       "5  f  4  3  0  4  b"
      ]
     },
     "execution_count": 71,
     "metadata": {},
     "output_type": "execute_result"
    }
   ],
   "source": [
    "df"
   ]
  },
  {
   "cell_type": "code",
   "execution_count": 72,
   "id": "9283b2a2-df5d-4902-9b16-70b30db4c949",
   "metadata": {},
   "outputs": [],
   "source": [
    "right = pd.DataFrame({'key': ['foo', 'foo'], 'rval': [4, 5]})"
   ]
  },
  {
   "cell_type": "code",
   "execution_count": 74,
   "id": "d065fb1d-c93f-4369-b732-767973db061d",
   "metadata": {},
   "outputs": [],
   "source": [
    "left=pd.DataFrame({'key': ['foo', 'foo'], 'lval': [1, 2]})"
   ]
  },
  {
   "cell_type": "code",
   "execution_count": 75,
   "id": "3836f315-d60d-42d2-acbf-e5a93e6e31c5",
   "metadata": {},
   "outputs": [
    {
     "data": {
      "text/html": [
       "<div>\n",
       "<style scoped>\n",
       "    .dataframe tbody tr th:only-of-type {\n",
       "        vertical-align: middle;\n",
       "    }\n",
       "\n",
       "    .dataframe tbody tr th {\n",
       "        vertical-align: top;\n",
       "    }\n",
       "\n",
       "    .dataframe thead th {\n",
       "        text-align: right;\n",
       "    }\n",
       "</style>\n",
       "<table border=\"1\" class=\"dataframe\">\n",
       "  <thead>\n",
       "    <tr style=\"text-align: right;\">\n",
       "      <th></th>\n",
       "      <th>key</th>\n",
       "      <th>rval</th>\n",
       "    </tr>\n",
       "  </thead>\n",
       "  <tbody>\n",
       "    <tr>\n",
       "      <th>0</th>\n",
       "      <td>foo</td>\n",
       "      <td>4</td>\n",
       "    </tr>\n",
       "    <tr>\n",
       "      <th>1</th>\n",
       "      <td>foo</td>\n",
       "      <td>5</td>\n",
       "    </tr>\n",
       "  </tbody>\n",
       "</table>\n",
       "</div>"
      ],
      "text/plain": [
       "   key  rval\n",
       "0  foo     4\n",
       "1  foo     5"
      ]
     },
     "execution_count": 75,
     "metadata": {},
     "output_type": "execute_result"
    }
   ],
   "source": [
    "right"
   ]
  },
  {
   "cell_type": "code",
   "execution_count": 76,
   "id": "a8535610-2751-4d23-8c31-3bc2d7d92eae",
   "metadata": {},
   "outputs": [
    {
     "data": {
      "text/html": [
       "<div>\n",
       "<style scoped>\n",
       "    .dataframe tbody tr th:only-of-type {\n",
       "        vertical-align: middle;\n",
       "    }\n",
       "\n",
       "    .dataframe tbody tr th {\n",
       "        vertical-align: top;\n",
       "    }\n",
       "\n",
       "    .dataframe thead th {\n",
       "        text-align: right;\n",
       "    }\n",
       "</style>\n",
       "<table border=\"1\" class=\"dataframe\">\n",
       "  <thead>\n",
       "    <tr style=\"text-align: right;\">\n",
       "      <th></th>\n",
       "      <th>key</th>\n",
       "      <th>lval</th>\n",
       "      <th>rval</th>\n",
       "    </tr>\n",
       "  </thead>\n",
       "  <tbody>\n",
       "    <tr>\n",
       "      <th>0</th>\n",
       "      <td>foo</td>\n",
       "      <td>1</td>\n",
       "      <td>4</td>\n",
       "    </tr>\n",
       "    <tr>\n",
       "      <th>1</th>\n",
       "      <td>foo</td>\n",
       "      <td>1</td>\n",
       "      <td>5</td>\n",
       "    </tr>\n",
       "    <tr>\n",
       "      <th>2</th>\n",
       "      <td>foo</td>\n",
       "      <td>2</td>\n",
       "      <td>4</td>\n",
       "    </tr>\n",
       "    <tr>\n",
       "      <th>3</th>\n",
       "      <td>foo</td>\n",
       "      <td>2</td>\n",
       "      <td>5</td>\n",
       "    </tr>\n",
       "  </tbody>\n",
       "</table>\n",
       "</div>"
      ],
      "text/plain": [
       "   key  lval  rval\n",
       "0  foo     1     4\n",
       "1  foo     1     5\n",
       "2  foo     2     4\n",
       "3  foo     2     5"
      ]
     },
     "execution_count": 76,
     "metadata": {},
     "output_type": "execute_result"
    }
   ],
   "source": [
    "pd.merge(left, right, on='key')"
   ]
  },
  {
   "cell_type": "code",
   "execution_count": 77,
   "id": "3b0244da-77d6-4348-aed8-a784d612c914",
   "metadata": {},
   "outputs": [],
   "source": [
    "df = list(zip(*[['bar', 'bar', 'baz', 'baz',\n",
    "                 'foo', 'foo', 'qux', 'qux'],\n",
    "                ['one', 'two', 'one', 'two',\n",
    "                 'one', 'two', 'one', 'two']]))\n",
    "   "
   ]
  },
  {
   "cell_type": "code",
   "execution_count": 78,
   "id": "d39ce1bd-eebe-4404-bc66-e24862855c2a",
   "metadata": {},
   "outputs": [
    {
     "data": {
      "text/plain": [
       "[('bar', 'one'),\n",
       " ('bar', 'two'),\n",
       " ('baz', 'one'),\n",
       " ('baz', 'two'),\n",
       " ('foo', 'one'),\n",
       " ('foo', 'two'),\n",
       " ('qux', 'one'),\n",
       " ('qux', 'two')]"
      ]
     },
     "execution_count": 78,
     "metadata": {},
     "output_type": "execute_result"
    }
   ],
   "source": [
    "df"
   ]
  },
  {
   "cell_type": "code",
   "execution_count": 1,
   "id": "43e8142e-df56-4251-be43-33ee1ac9abee",
   "metadata": {},
   "outputs": [],
   "source": [
    "df = list(zip([['bar', 'bar', 'baz', 'baz',\n",
    "                 'foo', 'foo', 'qux', 'qux'],\n",
    "                ['one', 'two', 'one', 'two',\n",
    "                 'one', 'two', 'one', 'two']]))"
   ]
  },
  {
   "cell_type": "code",
   "execution_count": 2,
   "id": "5bcf404e-a797-429d-9edd-02714db66e35",
   "metadata": {},
   "outputs": [
    {
     "data": {
      "text/plain": [
       "[(['bar', 'bar', 'baz', 'baz', 'foo', 'foo', 'qux', 'qux'],),\n",
       " (['one', 'two', 'one', 'two', 'one', 'two', 'one', 'two'],)]"
      ]
     },
     "execution_count": 2,
     "metadata": {},
     "output_type": "execute_result"
    }
   ],
   "source": [
    "df"
   ]
  },
  {
   "cell_type": "code",
   "execution_count": 3,
   "id": "fdaf3895-c30b-4678-a626-8ecea100676c",
   "metadata": {},
   "outputs": [],
   "source": [
    "df = list(zip(*[['bar', 'bar', 'baz', 'baz',\n",
    "                 'foo', 'foo', 'qux', 'qux'],\n",
    "                ['one', 'two', 'one', 'two',\n",
    "                 'one', 'two', 'one', 'two']]))"
   ]
  },
  {
   "cell_type": "code",
   "execution_count": 5,
   "id": "740dadf9-cfc2-4c56-bd81-47afefe50f66",
   "metadata": {},
   "outputs": [],
   "source": [
    "import numpy as np\n",
    "import pandas as pd\n",
    "index = pd.MultiIndex.from_tuples(df, names=['first', 'second'])"
   ]
  },
  {
   "cell_type": "code",
   "execution_count": 6,
   "id": "9a6e11ee-5fd0-4346-8ce3-2d47c6234fb6",
   "metadata": {},
   "outputs": [
    {
     "data": {
      "text/plain": [
       "MultiIndex([('bar', 'one'),\n",
       "            ('bar', 'two'),\n",
       "            ('baz', 'one'),\n",
       "            ('baz', 'two'),\n",
       "            ('foo', 'one'),\n",
       "            ('foo', 'two'),\n",
       "            ('qux', 'one'),\n",
       "            ('qux', 'two')],\n",
       "           names=['first', 'second'])"
      ]
     },
     "execution_count": 6,
     "metadata": {},
     "output_type": "execute_result"
    }
   ],
   "source": [
    "index"
   ]
  },
  {
   "cell_type": "code",
   "execution_count": 7,
   "id": "69213742-7fa5-4174-8a96-da3d066580d0",
   "metadata": {},
   "outputs": [],
   "source": [
    "df = pd.DataFrame(np.random.randn(8, 2), index=index, columns=['A', 'B'])"
   ]
  },
  {
   "cell_type": "code",
   "execution_count": 8,
   "id": "3174eee2-7cbc-4b72-9e98-2f11e5cf14b5",
   "metadata": {},
   "outputs": [
    {
     "data": {
      "text/html": [
       "<div>\n",
       "<style scoped>\n",
       "    .dataframe tbody tr th:only-of-type {\n",
       "        vertical-align: middle;\n",
       "    }\n",
       "\n",
       "    .dataframe tbody tr th {\n",
       "        vertical-align: top;\n",
       "    }\n",
       "\n",
       "    .dataframe thead th {\n",
       "        text-align: right;\n",
       "    }\n",
       "</style>\n",
       "<table border=\"1\" class=\"dataframe\">\n",
       "  <thead>\n",
       "    <tr style=\"text-align: right;\">\n",
       "      <th></th>\n",
       "      <th></th>\n",
       "      <th>A</th>\n",
       "      <th>B</th>\n",
       "    </tr>\n",
       "    <tr>\n",
       "      <th>first</th>\n",
       "      <th>second</th>\n",
       "      <th></th>\n",
       "      <th></th>\n",
       "    </tr>\n",
       "  </thead>\n",
       "  <tbody>\n",
       "    <tr>\n",
       "      <th rowspan=\"2\" valign=\"top\">bar</th>\n",
       "      <th>one</th>\n",
       "      <td>-0.333198</td>\n",
       "      <td>-0.580873</td>\n",
       "    </tr>\n",
       "    <tr>\n",
       "      <th>two</th>\n",
       "      <td>-0.846442</td>\n",
       "      <td>-1.334830</td>\n",
       "    </tr>\n",
       "    <tr>\n",
       "      <th rowspan=\"2\" valign=\"top\">baz</th>\n",
       "      <th>one</th>\n",
       "      <td>-0.171486</td>\n",
       "      <td>-0.510584</td>\n",
       "    </tr>\n",
       "    <tr>\n",
       "      <th>two</th>\n",
       "      <td>-1.996911</td>\n",
       "      <td>-0.016269</td>\n",
       "    </tr>\n",
       "    <tr>\n",
       "      <th rowspan=\"2\" valign=\"top\">foo</th>\n",
       "      <th>one</th>\n",
       "      <td>0.860606</td>\n",
       "      <td>0.716048</td>\n",
       "    </tr>\n",
       "    <tr>\n",
       "      <th>two</th>\n",
       "      <td>-1.806104</td>\n",
       "      <td>-1.415426</td>\n",
       "    </tr>\n",
       "    <tr>\n",
       "      <th rowspan=\"2\" valign=\"top\">qux</th>\n",
       "      <th>one</th>\n",
       "      <td>0.339149</td>\n",
       "      <td>-0.474069</td>\n",
       "    </tr>\n",
       "    <tr>\n",
       "      <th>two</th>\n",
       "      <td>0.184003</td>\n",
       "      <td>0.982601</td>\n",
       "    </tr>\n",
       "  </tbody>\n",
       "</table>\n",
       "</div>"
      ],
      "text/plain": [
       "                     A         B\n",
       "first second                    \n",
       "bar   one    -0.333198 -0.580873\n",
       "      two    -0.846442 -1.334830\n",
       "baz   one    -0.171486 -0.510584\n",
       "      two    -1.996911 -0.016269\n",
       "foo   one     0.860606  0.716048\n",
       "      two    -1.806104 -1.415426\n",
       "qux   one     0.339149 -0.474069\n",
       "      two     0.184003  0.982601"
      ]
     },
     "execution_count": 8,
     "metadata": {},
     "output_type": "execute_result"
    }
   ],
   "source": [
    "df"
   ]
  },
  {
   "cell_type": "code",
   "execution_count": 9,
   "id": "76832efe-4a46-4e7f-8db2-aed9a6eba030",
   "metadata": {},
   "outputs": [],
   "source": [
    "df2 = df[:4]"
   ]
  },
  {
   "cell_type": "code",
   "execution_count": 10,
   "id": "d8af7e38-3589-4c3a-bc78-68f5ca0c2543",
   "metadata": {},
   "outputs": [],
   "source": [
    "stacked = df2.stack()"
   ]
  },
  {
   "cell_type": "code",
   "execution_count": 11,
   "id": "263a97e2-1503-4226-9adb-a9f850d2438c",
   "metadata": {},
   "outputs": [
    {
     "data": {
      "text/plain": [
       "first  second   \n",
       "bar    one     A   -0.333198\n",
       "               B   -0.580873\n",
       "       two     A   -0.846442\n",
       "               B   -1.334830\n",
       "baz    one     A   -0.171486\n",
       "               B   -0.510584\n",
       "       two     A   -1.996911\n",
       "               B   -0.016269\n",
       "dtype: float64"
      ]
     },
     "execution_count": 11,
     "metadata": {},
     "output_type": "execute_result"
    }
   ],
   "source": [
    "stacked"
   ]
  },
  {
   "cell_type": "code",
   "execution_count": 12,
   "id": "1a352bd4-7f36-48d4-91be-3821c55cc6e3",
   "metadata": {},
   "outputs": [
    {
     "data": {
      "text/html": [
       "<div>\n",
       "<style scoped>\n",
       "    .dataframe tbody tr th:only-of-type {\n",
       "        vertical-align: middle;\n",
       "    }\n",
       "\n",
       "    .dataframe tbody tr th {\n",
       "        vertical-align: top;\n",
       "    }\n",
       "\n",
       "    .dataframe thead th {\n",
       "        text-align: right;\n",
       "    }\n",
       "</style>\n",
       "<table border=\"1\" class=\"dataframe\">\n",
       "  <thead>\n",
       "    <tr style=\"text-align: right;\">\n",
       "      <th></th>\n",
       "      <th></th>\n",
       "      <th>A</th>\n",
       "      <th>B</th>\n",
       "    </tr>\n",
       "    <tr>\n",
       "      <th>first</th>\n",
       "      <th>second</th>\n",
       "      <th></th>\n",
       "      <th></th>\n",
       "    </tr>\n",
       "  </thead>\n",
       "  <tbody>\n",
       "    <tr>\n",
       "      <th rowspan=\"2\" valign=\"top\">bar</th>\n",
       "      <th>one</th>\n",
       "      <td>-0.333198</td>\n",
       "      <td>-0.580873</td>\n",
       "    </tr>\n",
       "    <tr>\n",
       "      <th>two</th>\n",
       "      <td>-0.846442</td>\n",
       "      <td>-1.334830</td>\n",
       "    </tr>\n",
       "    <tr>\n",
       "      <th rowspan=\"2\" valign=\"top\">baz</th>\n",
       "      <th>one</th>\n",
       "      <td>-0.171486</td>\n",
       "      <td>-0.510584</td>\n",
       "    </tr>\n",
       "    <tr>\n",
       "      <th>two</th>\n",
       "      <td>-1.996911</td>\n",
       "      <td>-0.016269</td>\n",
       "    </tr>\n",
       "  </tbody>\n",
       "</table>\n",
       "</div>"
      ],
      "text/plain": [
       "                     A         B\n",
       "first second                    \n",
       "bar   one    -0.333198 -0.580873\n",
       "      two    -0.846442 -1.334830\n",
       "baz   one    -0.171486 -0.510584\n",
       "      two    -1.996911 -0.016269"
      ]
     },
     "execution_count": 12,
     "metadata": {},
     "output_type": "execute_result"
    }
   ],
   "source": [
    "df2"
   ]
  },
  {
   "cell_type": "code",
   "execution_count": 15,
   "id": "5241eeca-7872-4095-a0b4-efe7f4cd6ebe",
   "metadata": {},
   "outputs": [
    {
     "data": {
      "text/html": [
       "<div>\n",
       "<style scoped>\n",
       "    .dataframe tbody tr th:only-of-type {\n",
       "        vertical-align: middle;\n",
       "    }\n",
       "\n",
       "    .dataframe tbody tr th {\n",
       "        vertical-align: top;\n",
       "    }\n",
       "\n",
       "    .dataframe thead th {\n",
       "        text-align: right;\n",
       "    }\n",
       "</style>\n",
       "<table border=\"1\" class=\"dataframe\">\n",
       "  <thead>\n",
       "    <tr style=\"text-align: right;\">\n",
       "      <th></th>\n",
       "      <th>second</th>\n",
       "      <th>one</th>\n",
       "      <th>two</th>\n",
       "    </tr>\n",
       "    <tr>\n",
       "      <th>first</th>\n",
       "      <th></th>\n",
       "      <th></th>\n",
       "      <th></th>\n",
       "    </tr>\n",
       "  </thead>\n",
       "  <tbody>\n",
       "    <tr>\n",
       "      <th rowspan=\"2\" valign=\"top\">bar</th>\n",
       "      <th>A</th>\n",
       "      <td>-0.333198</td>\n",
       "      <td>-0.846442</td>\n",
       "    </tr>\n",
       "    <tr>\n",
       "      <th>B</th>\n",
       "      <td>-0.580873</td>\n",
       "      <td>-1.334830</td>\n",
       "    </tr>\n",
       "    <tr>\n",
       "      <th rowspan=\"2\" valign=\"top\">baz</th>\n",
       "      <th>A</th>\n",
       "      <td>-0.171486</td>\n",
       "      <td>-1.996911</td>\n",
       "    </tr>\n",
       "    <tr>\n",
       "      <th>B</th>\n",
       "      <td>-0.510584</td>\n",
       "      <td>-0.016269</td>\n",
       "    </tr>\n",
       "  </tbody>\n",
       "</table>\n",
       "</div>"
      ],
      "text/plain": [
       "second        one       two\n",
       "first                      \n",
       "bar   A -0.333198 -0.846442\n",
       "      B -0.580873 -1.334830\n",
       "baz   A -0.171486 -1.996911\n",
       "      B -0.510584 -0.016269"
      ]
     },
     "execution_count": 15,
     "metadata": {},
     "output_type": "execute_result"
    }
   ],
   "source": [
    "stacked.unstack(1)"
   ]
  },
  {
   "cell_type": "code",
   "execution_count": 16,
   "id": "9b6a4e7d-682e-40d2-9c1b-c9154a8ad4dd",
   "metadata": {},
   "outputs": [],
   "source": [
    "df = pd.DataFrame({'A': ['one', 'one', 'two', 'three'] * 3,\n",
    "   .....:                    'B': ['A', 'B', 'C'] * 4,\n",
    "   .....:                    'C': ['foo', 'foo', 'foo', 'bar', 'bar', 'bar'] * 2,\n",
    "   .....:                    'D': np.random.randn(12),\n",
    "   .....:                    'E': np.random.randn(12)})"
   ]
  },
  {
   "cell_type": "code",
   "execution_count": 17,
   "id": "7474b146-b211-4e97-b7a5-8ba7dc7a3097",
   "metadata": {},
   "outputs": [
    {
     "data": {
      "text/html": [
       "<div>\n",
       "<style scoped>\n",
       "    .dataframe tbody tr th:only-of-type {\n",
       "        vertical-align: middle;\n",
       "    }\n",
       "\n",
       "    .dataframe tbody tr th {\n",
       "        vertical-align: top;\n",
       "    }\n",
       "\n",
       "    .dataframe thead th {\n",
       "        text-align: right;\n",
       "    }\n",
       "</style>\n",
       "<table border=\"1\" class=\"dataframe\">\n",
       "  <thead>\n",
       "    <tr style=\"text-align: right;\">\n",
       "      <th></th>\n",
       "      <th>A</th>\n",
       "      <th>B</th>\n",
       "      <th>C</th>\n",
       "      <th>D</th>\n",
       "      <th>E</th>\n",
       "    </tr>\n",
       "  </thead>\n",
       "  <tbody>\n",
       "    <tr>\n",
       "      <th>0</th>\n",
       "      <td>one</td>\n",
       "      <td>A</td>\n",
       "      <td>foo</td>\n",
       "      <td>-0.615666</td>\n",
       "      <td>-0.748734</td>\n",
       "    </tr>\n",
       "    <tr>\n",
       "      <th>1</th>\n",
       "      <td>one</td>\n",
       "      <td>B</td>\n",
       "      <td>foo</td>\n",
       "      <td>-0.082013</td>\n",
       "      <td>0.200171</td>\n",
       "    </tr>\n",
       "    <tr>\n",
       "      <th>2</th>\n",
       "      <td>two</td>\n",
       "      <td>C</td>\n",
       "      <td>foo</td>\n",
       "      <td>0.059992</td>\n",
       "      <td>-0.845654</td>\n",
       "    </tr>\n",
       "    <tr>\n",
       "      <th>3</th>\n",
       "      <td>three</td>\n",
       "      <td>A</td>\n",
       "      <td>bar</td>\n",
       "      <td>1.929354</td>\n",
       "      <td>-1.001958</td>\n",
       "    </tr>\n",
       "    <tr>\n",
       "      <th>4</th>\n",
       "      <td>one</td>\n",
       "      <td>B</td>\n",
       "      <td>bar</td>\n",
       "      <td>1.178350</td>\n",
       "      <td>0.725306</td>\n",
       "    </tr>\n",
       "    <tr>\n",
       "      <th>5</th>\n",
       "      <td>one</td>\n",
       "      <td>C</td>\n",
       "      <td>bar</td>\n",
       "      <td>0.219960</td>\n",
       "      <td>-0.994058</td>\n",
       "    </tr>\n",
       "    <tr>\n",
       "      <th>6</th>\n",
       "      <td>two</td>\n",
       "      <td>A</td>\n",
       "      <td>foo</td>\n",
       "      <td>0.067270</td>\n",
       "      <td>0.612691</td>\n",
       "    </tr>\n",
       "    <tr>\n",
       "      <th>7</th>\n",
       "      <td>three</td>\n",
       "      <td>B</td>\n",
       "      <td>foo</td>\n",
       "      <td>-0.098856</td>\n",
       "      <td>-1.731960</td>\n",
       "    </tr>\n",
       "    <tr>\n",
       "      <th>8</th>\n",
       "      <td>one</td>\n",
       "      <td>C</td>\n",
       "      <td>foo</td>\n",
       "      <td>1.522161</td>\n",
       "      <td>-0.844492</td>\n",
       "    </tr>\n",
       "    <tr>\n",
       "      <th>9</th>\n",
       "      <td>one</td>\n",
       "      <td>A</td>\n",
       "      <td>bar</td>\n",
       "      <td>-0.900585</td>\n",
       "      <td>-1.211053</td>\n",
       "    </tr>\n",
       "    <tr>\n",
       "      <th>10</th>\n",
       "      <td>two</td>\n",
       "      <td>B</td>\n",
       "      <td>bar</td>\n",
       "      <td>0.460492</td>\n",
       "      <td>0.229254</td>\n",
       "    </tr>\n",
       "    <tr>\n",
       "      <th>11</th>\n",
       "      <td>three</td>\n",
       "      <td>C</td>\n",
       "      <td>bar</td>\n",
       "      <td>-0.267765</td>\n",
       "      <td>-0.815816</td>\n",
       "    </tr>\n",
       "  </tbody>\n",
       "</table>\n",
       "</div>"
      ],
      "text/plain": [
       "        A  B    C         D         E\n",
       "0     one  A  foo -0.615666 -0.748734\n",
       "1     one  B  foo -0.082013  0.200171\n",
       "2     two  C  foo  0.059992 -0.845654\n",
       "3   three  A  bar  1.929354 -1.001958\n",
       "4     one  B  bar  1.178350  0.725306\n",
       "5     one  C  bar  0.219960 -0.994058\n",
       "6     two  A  foo  0.067270  0.612691\n",
       "7   three  B  foo -0.098856 -1.731960\n",
       "8     one  C  foo  1.522161 -0.844492\n",
       "9     one  A  bar -0.900585 -1.211053\n",
       "10    two  B  bar  0.460492  0.229254\n",
       "11  three  C  bar -0.267765 -0.815816"
      ]
     },
     "execution_count": 17,
     "metadata": {},
     "output_type": "execute_result"
    }
   ],
   "source": [
    "df"
   ]
  },
  {
   "cell_type": "code",
   "execution_count": 18,
   "id": "36c55455-02ff-4b0c-a14c-f6d81be283d5",
   "metadata": {},
   "outputs": [
    {
     "data": {
      "text/html": [
       "<div>\n",
       "<style scoped>\n",
       "    .dataframe tbody tr th:only-of-type {\n",
       "        vertical-align: middle;\n",
       "    }\n",
       "\n",
       "    .dataframe tbody tr th {\n",
       "        vertical-align: top;\n",
       "    }\n",
       "\n",
       "    .dataframe thead th {\n",
       "        text-align: right;\n",
       "    }\n",
       "</style>\n",
       "<table border=\"1\" class=\"dataframe\">\n",
       "  <thead>\n",
       "    <tr style=\"text-align: right;\">\n",
       "      <th></th>\n",
       "      <th></th>\n",
       "      <th>D</th>\n",
       "    </tr>\n",
       "    <tr>\n",
       "      <th>A</th>\n",
       "      <th>B</th>\n",
       "      <th></th>\n",
       "    </tr>\n",
       "  </thead>\n",
       "  <tbody>\n",
       "    <tr>\n",
       "      <th rowspan=\"3\" valign=\"top\">one</th>\n",
       "      <th>A</th>\n",
       "      <td>-0.758125</td>\n",
       "    </tr>\n",
       "    <tr>\n",
       "      <th>B</th>\n",
       "      <td>0.548169</td>\n",
       "    </tr>\n",
       "    <tr>\n",
       "      <th>C</th>\n",
       "      <td>0.871060</td>\n",
       "    </tr>\n",
       "    <tr>\n",
       "      <th rowspan=\"3\" valign=\"top\">three</th>\n",
       "      <th>A</th>\n",
       "      <td>1.929354</td>\n",
       "    </tr>\n",
       "    <tr>\n",
       "      <th>B</th>\n",
       "      <td>-0.098856</td>\n",
       "    </tr>\n",
       "    <tr>\n",
       "      <th>C</th>\n",
       "      <td>-0.267765</td>\n",
       "    </tr>\n",
       "    <tr>\n",
       "      <th rowspan=\"3\" valign=\"top\">two</th>\n",
       "      <th>A</th>\n",
       "      <td>0.067270</td>\n",
       "    </tr>\n",
       "    <tr>\n",
       "      <th>B</th>\n",
       "      <td>0.460492</td>\n",
       "    </tr>\n",
       "    <tr>\n",
       "      <th>C</th>\n",
       "      <td>0.059992</td>\n",
       "    </tr>\n",
       "  </tbody>\n",
       "</table>\n",
       "</div>"
      ],
      "text/plain": [
       "                D\n",
       "A     B          \n",
       "one   A -0.758125\n",
       "      B  0.548169\n",
       "      C  0.871060\n",
       "three A  1.929354\n",
       "      B -0.098856\n",
       "      C -0.267765\n",
       "two   A  0.067270\n",
       "      B  0.460492\n",
       "      C  0.059992"
      ]
     },
     "execution_count": 18,
     "metadata": {},
     "output_type": "execute_result"
    }
   ],
   "source": [
    "pd.pivot_table(df, values='D', index=['A', 'B'])"
   ]
  },
  {
   "cell_type": "code",
   "execution_count": 23,
   "id": "501c1881-4914-4bc1-a2f0-f7c517980d67",
   "metadata": {},
   "outputs": [],
   "source": [
    "rng = pd.date_range('1/1/2012', periods=100, freq='S')"
   ]
  },
  {
   "cell_type": "code",
   "execution_count": 24,
   "id": "19dea898-8ff8-4e2c-9807-29d727abd15d",
   "metadata": {},
   "outputs": [
    {
     "data": {
      "text/plain": [
       "DatetimeIndex(['2012-01-01 00:00:00', '2012-01-01 00:00:01',\n",
       "               '2012-01-01 00:00:02', '2012-01-01 00:00:03',\n",
       "               '2012-01-01 00:00:04', '2012-01-01 00:00:05',\n",
       "               '2012-01-01 00:00:06', '2012-01-01 00:00:07',\n",
       "               '2012-01-01 00:00:08', '2012-01-01 00:00:09',\n",
       "               '2012-01-01 00:00:10', '2012-01-01 00:00:11',\n",
       "               '2012-01-01 00:00:12', '2012-01-01 00:00:13',\n",
       "               '2012-01-01 00:00:14', '2012-01-01 00:00:15',\n",
       "               '2012-01-01 00:00:16', '2012-01-01 00:00:17',\n",
       "               '2012-01-01 00:00:18', '2012-01-01 00:00:19',\n",
       "               '2012-01-01 00:00:20', '2012-01-01 00:00:21',\n",
       "               '2012-01-01 00:00:22', '2012-01-01 00:00:23',\n",
       "               '2012-01-01 00:00:24', '2012-01-01 00:00:25',\n",
       "               '2012-01-01 00:00:26', '2012-01-01 00:00:27',\n",
       "               '2012-01-01 00:00:28', '2012-01-01 00:00:29',\n",
       "               '2012-01-01 00:00:30', '2012-01-01 00:00:31',\n",
       "               '2012-01-01 00:00:32', '2012-01-01 00:00:33',\n",
       "               '2012-01-01 00:00:34', '2012-01-01 00:00:35',\n",
       "               '2012-01-01 00:00:36', '2012-01-01 00:00:37',\n",
       "               '2012-01-01 00:00:38', '2012-01-01 00:00:39',\n",
       "               '2012-01-01 00:00:40', '2012-01-01 00:00:41',\n",
       "               '2012-01-01 00:00:42', '2012-01-01 00:00:43',\n",
       "               '2012-01-01 00:00:44', '2012-01-01 00:00:45',\n",
       "               '2012-01-01 00:00:46', '2012-01-01 00:00:47',\n",
       "               '2012-01-01 00:00:48', '2012-01-01 00:00:49',\n",
       "               '2012-01-01 00:00:50', '2012-01-01 00:00:51',\n",
       "               '2012-01-01 00:00:52', '2012-01-01 00:00:53',\n",
       "               '2012-01-01 00:00:54', '2012-01-01 00:00:55',\n",
       "               '2012-01-01 00:00:56', '2012-01-01 00:00:57',\n",
       "               '2012-01-01 00:00:58', '2012-01-01 00:00:59',\n",
       "               '2012-01-01 00:01:00', '2012-01-01 00:01:01',\n",
       "               '2012-01-01 00:01:02', '2012-01-01 00:01:03',\n",
       "               '2012-01-01 00:01:04', '2012-01-01 00:01:05',\n",
       "               '2012-01-01 00:01:06', '2012-01-01 00:01:07',\n",
       "               '2012-01-01 00:01:08', '2012-01-01 00:01:09',\n",
       "               '2012-01-01 00:01:10', '2012-01-01 00:01:11',\n",
       "               '2012-01-01 00:01:12', '2012-01-01 00:01:13',\n",
       "               '2012-01-01 00:01:14', '2012-01-01 00:01:15',\n",
       "               '2012-01-01 00:01:16', '2012-01-01 00:01:17',\n",
       "               '2012-01-01 00:01:18', '2012-01-01 00:01:19',\n",
       "               '2012-01-01 00:01:20', '2012-01-01 00:01:21',\n",
       "               '2012-01-01 00:01:22', '2012-01-01 00:01:23',\n",
       "               '2012-01-01 00:01:24', '2012-01-01 00:01:25',\n",
       "               '2012-01-01 00:01:26', '2012-01-01 00:01:27',\n",
       "               '2012-01-01 00:01:28', '2012-01-01 00:01:29',\n",
       "               '2012-01-01 00:01:30', '2012-01-01 00:01:31',\n",
       "               '2012-01-01 00:01:32', '2012-01-01 00:01:33',\n",
       "               '2012-01-01 00:01:34', '2012-01-01 00:01:35',\n",
       "               '2012-01-01 00:01:36', '2012-01-01 00:01:37',\n",
       "               '2012-01-01 00:01:38', '2012-01-01 00:01:39'],\n",
       "              dtype='datetime64[ns]', freq='S')"
      ]
     },
     "execution_count": 24,
     "metadata": {},
     "output_type": "execute_result"
    }
   ],
   "source": [
    "rng"
   ]
  },
  {
   "cell_type": "code",
   "execution_count": 25,
   "id": "8911f9e0-3b10-42f9-9a35-3a3a53adb1c9",
   "metadata": {},
   "outputs": [],
   "source": [
    "ts = pd.Series(np.random.randint(0, 500, len(rng)), index=rng)"
   ]
  },
  {
   "cell_type": "code",
   "execution_count": 26,
   "id": "8d1666d4-e6f7-479c-882c-8cb07970bab2",
   "metadata": {},
   "outputs": [
    {
     "data": {
      "text/plain": [
       "2012-01-01 00:00:00    353\n",
       "2012-01-01 00:00:01    305\n",
       "2012-01-01 00:00:02    289\n",
       "2012-01-01 00:00:03     17\n",
       "2012-01-01 00:00:04    329\n",
       "                      ... \n",
       "2012-01-01 00:01:35    462\n",
       "2012-01-01 00:01:36     58\n",
       "2012-01-01 00:01:37    355\n",
       "2012-01-01 00:01:38    245\n",
       "2012-01-01 00:01:39    177\n",
       "Freq: S, Length: 100, dtype: int32"
      ]
     },
     "execution_count": 26,
     "metadata": {},
     "output_type": "execute_result"
    }
   ],
   "source": [
    "ts"
   ]
  },
  {
   "cell_type": "code",
   "execution_count": 38,
   "id": "5c9a0b27-cdfc-46fe-a97d-6fc00652c788",
   "metadata": {},
   "outputs": [
    {
     "data": {
      "text/plain": [
       "2012-01-01 00:00:00    2185\n",
       "2012-01-01 00:00:10    1275\n",
       "2012-01-01 00:00:20    2800\n",
       "2012-01-01 00:00:30    1760\n",
       "2012-01-01 00:00:40    3146\n",
       "2012-01-01 00:00:50    3077\n",
       "2012-01-01 00:01:00    2510\n",
       "2012-01-01 00:01:10    2543\n",
       "2012-01-01 00:01:20    3177\n",
       "2012-01-01 00:01:30    3029\n",
       "Freq: 10S, dtype: int32"
      ]
     },
     "execution_count": 38,
     "metadata": {},
     "output_type": "execute_result"
    }
   ],
   "source": [
    "ts.resample('10s').sum()"
   ]
  },
  {
   "cell_type": "code",
   "execution_count": 39,
   "id": "e9f2c49d-1559-4a85-a662-e7742ae57411",
   "metadata": {},
   "outputs": [],
   "source": [
    "prng = pd.period_range('1990Q1', '2000Q4', freq='Q-NOV')"
   ]
  },
  {
   "cell_type": "code",
   "execution_count": 40,
   "id": "8eb57ddb-d739-495e-ac18-4a1fe52610b6",
   "metadata": {},
   "outputs": [
    {
     "data": {
      "text/plain": [
       "PeriodIndex(['1990Q1', '1990Q2', '1990Q3', '1990Q4', '1991Q1', '1991Q2',\n",
       "             '1991Q3', '1991Q4', '1992Q1', '1992Q2', '1992Q3', '1992Q4',\n",
       "             '1993Q1', '1993Q2', '1993Q3', '1993Q4', '1994Q1', '1994Q2',\n",
       "             '1994Q3', '1994Q4', '1995Q1', '1995Q2', '1995Q3', '1995Q4',\n",
       "             '1996Q1', '1996Q2', '1996Q3', '1996Q4', '1997Q1', '1997Q2',\n",
       "             '1997Q3', '1997Q4', '1998Q1', '1998Q2', '1998Q3', '1998Q4',\n",
       "             '1999Q1', '1999Q2', '1999Q3', '1999Q4', '2000Q1', '2000Q2',\n",
       "             '2000Q3', '2000Q4'],\n",
       "            dtype='period[Q-NOV]')"
      ]
     },
     "execution_count": 40,
     "metadata": {},
     "output_type": "execute_result"
    }
   ],
   "source": [
    "prng"
   ]
  },
  {
   "cell_type": "code",
   "execution_count": 41,
   "id": "583ef096-5120-4ada-8f80-f30e1289b793",
   "metadata": {},
   "outputs": [],
   "source": [
    "ts = pd.Series(np.random.randn(len(prng)), prng)"
   ]
  },
  {
   "cell_type": "code",
   "execution_count": 42,
   "id": "8dcc058a-c3ba-4b71-acca-9a2b56d61178",
   "metadata": {},
   "outputs": [
    {
     "data": {
      "text/plain": [
       "1990Q1    0.635997\n",
       "1990Q2   -0.372051\n",
       "1990Q3    1.697059\n",
       "1990Q4   -1.323492\n",
       "1991Q1   -2.378666\n",
       "1991Q2   -1.140147\n",
       "1991Q3    0.566834\n",
       "1991Q4   -1.013977\n",
       "1992Q1   -0.454655\n",
       "1992Q2    1.355583\n",
       "1992Q3    0.752884\n",
       "1992Q4   -0.910068\n",
       "1993Q1   -0.544429\n",
       "1993Q2    0.595479\n",
       "1993Q3    1.036067\n",
       "1993Q4   -0.404159\n",
       "1994Q1    1.434724\n",
       "1994Q2   -0.284999\n",
       "1994Q3   -0.252577\n",
       "1994Q4   -0.203365\n",
       "1995Q1   -0.566556\n",
       "1995Q2   -2.726983\n",
       "1995Q3   -0.034723\n",
       "1995Q4   -1.802003\n",
       "1996Q1   -1.411573\n",
       "1996Q2    0.267549\n",
       "1996Q3   -0.852467\n",
       "1996Q4    1.018745\n",
       "1997Q1   -0.718151\n",
       "1997Q2    0.071152\n",
       "1997Q3   -0.517397\n",
       "1997Q4    0.777525\n",
       "1998Q1    1.120046\n",
       "1998Q2    0.373937\n",
       "1998Q3    1.515959\n",
       "1998Q4    2.625781\n",
       "1999Q1   -0.236096\n",
       "1999Q2   -0.671953\n",
       "1999Q3    0.315945\n",
       "1999Q4   -0.317306\n",
       "2000Q1   -1.690803\n",
       "2000Q2    1.064695\n",
       "2000Q3   -0.742132\n",
       "2000Q4   -0.067825\n",
       "Freq: Q-NOV, dtype: float64"
      ]
     },
     "execution_count": 42,
     "metadata": {},
     "output_type": "execute_result"
    }
   ],
   "source": [
    "ts"
   ]
  },
  {
   "cell_type": "code",
   "execution_count": 43,
   "id": "2f2f647a-3267-48b4-b9f9-2e2549b20956",
   "metadata": {},
   "outputs": [],
   "source": [
    "df = pd.DataFrame({\"id\": [1, 2, 3, 4, 5, 6],\n",
    "   .....:                    \"raw_grade\": ['a', 'b', 'b', 'a', 'a', 'e']})"
   ]
  },
  {
   "cell_type": "code",
   "execution_count": 44,
   "id": "bcc2c482-56d0-4de5-bffa-b1a7827d106f",
   "metadata": {},
   "outputs": [
    {
     "data": {
      "text/html": [
       "<div>\n",
       "<style scoped>\n",
       "    .dataframe tbody tr th:only-of-type {\n",
       "        vertical-align: middle;\n",
       "    }\n",
       "\n",
       "    .dataframe tbody tr th {\n",
       "        vertical-align: top;\n",
       "    }\n",
       "\n",
       "    .dataframe thead th {\n",
       "        text-align: right;\n",
       "    }\n",
       "</style>\n",
       "<table border=\"1\" class=\"dataframe\">\n",
       "  <thead>\n",
       "    <tr style=\"text-align: right;\">\n",
       "      <th></th>\n",
       "      <th>id</th>\n",
       "      <th>raw_grade</th>\n",
       "    </tr>\n",
       "  </thead>\n",
       "  <tbody>\n",
       "    <tr>\n",
       "      <th>0</th>\n",
       "      <td>1</td>\n",
       "      <td>a</td>\n",
       "    </tr>\n",
       "    <tr>\n",
       "      <th>1</th>\n",
       "      <td>2</td>\n",
       "      <td>b</td>\n",
       "    </tr>\n",
       "    <tr>\n",
       "      <th>2</th>\n",
       "      <td>3</td>\n",
       "      <td>b</td>\n",
       "    </tr>\n",
       "    <tr>\n",
       "      <th>3</th>\n",
       "      <td>4</td>\n",
       "      <td>a</td>\n",
       "    </tr>\n",
       "    <tr>\n",
       "      <th>4</th>\n",
       "      <td>5</td>\n",
       "      <td>a</td>\n",
       "    </tr>\n",
       "    <tr>\n",
       "      <th>5</th>\n",
       "      <td>6</td>\n",
       "      <td>e</td>\n",
       "    </tr>\n",
       "  </tbody>\n",
       "</table>\n",
       "</div>"
      ],
      "text/plain": [
       "   id raw_grade\n",
       "0   1         a\n",
       "1   2         b\n",
       "2   3         b\n",
       "3   4         a\n",
       "4   5         a\n",
       "5   6         e"
      ]
     },
     "execution_count": 44,
     "metadata": {},
     "output_type": "execute_result"
    }
   ],
   "source": [
    "df"
   ]
  },
  {
   "cell_type": "code",
   "execution_count": 45,
   "id": "c1da6e47-8856-40ef-89bc-55e73f12c208",
   "metadata": {},
   "outputs": [],
   "source": [
    "df[\"grade\"] = df[\"raw_grade\"].astype(\"category\")"
   ]
  },
  {
   "cell_type": "code",
   "execution_count": 47,
   "id": "ba22264b-d6a8-471c-bfa4-3442c7b3a932",
   "metadata": {},
   "outputs": [
    {
     "data": {
      "text/plain": [
       "0    a\n",
       "1    b\n",
       "2    b\n",
       "3    a\n",
       "4    a\n",
       "5    e\n",
       "Name: grade, dtype: category\n",
       "Categories (3, object): ['a', 'b', 'e']"
      ]
     },
     "execution_count": 47,
     "metadata": {},
     "output_type": "execute_result"
    }
   ],
   "source": [
    "df[\"grade\"] "
   ]
  },
  {
   "cell_type": "code",
   "execution_count": 48,
   "id": "367f959d-aeee-4d5b-964d-8650f1d13f15",
   "metadata": {},
   "outputs": [],
   "source": [
    "df[\"grade\"].cat.categories = [\"very good\", \"good\", \"very bad\"]"
   ]
  },
  {
   "cell_type": "code",
   "execution_count": 49,
   "id": "9a93b106-6261-4a0f-ae84-7ed7ca23d118",
   "metadata": {},
   "outputs": [
    {
     "data": {
      "text/plain": [
       "0    very good\n",
       "1         good\n",
       "2         good\n",
       "3    very good\n",
       "4    very good\n",
       "5     very bad\n",
       "Name: grade, dtype: category\n",
       "Categories (3, object): ['very good', 'good', 'very bad']"
      ]
     },
     "execution_count": 49,
     "metadata": {},
     "output_type": "execute_result"
    }
   ],
   "source": [
    "df[\"grade\"]"
   ]
  },
  {
   "cell_type": "code",
   "execution_count": 58,
   "id": "1d987cbd-49a6-4a26-b9bd-b5745f7df996",
   "metadata": {},
   "outputs": [
    {
     "data": {
      "text/plain": [
       "<AxesSubplot:>"
      ]
     },
     "execution_count": 58,
     "metadata": {},
     "output_type": "execute_result"
    },
    {
     "data": {
      "image/png": "[encoded data removed]",
      "text/plain": [
       "<Figure size 432x288 with 1 Axes>"
      ]
     },
     "metadata": {
      "needs_background": "light"
     },
     "output_type": "display_data"
    }
   ],
   "source": [
    "ts = pd.Series(np.random.randn(1000),\n",
    "               index=pd.date_range('1/1/2000', periods=1000))\n",
    "df = pd.DataFrame(np.random.randn(1000, 4), index=ts.index,\n",
    "                  columns=['A', 'B', 'C', 'D'])\n",
    "    \n",
    "\n",
    "df = df.cumsum()\n",
    "df.plot()\n"
   ]
  },
  {
   "cell_type": "code",
   "execution_count": 59,
   "id": "41ec8d0b-1845-446c-943f-30cfb188752f",
   "metadata": {},
   "outputs": [],
   "source": [
    "df = pd.DataFrame(np.random.randn(8, 3), index=index,\n",
    "   ...:                   columns=['A', 'B', 'C'])"
   ]
  },
  {
   "cell_type": "code",
   "execution_count": 60,
   "id": "7428382d-6709-4d84-9bcc-800db410e876",
   "metadata": {},
   "outputs": [
    {
     "data": {
      "text/html": [
       "<div>\n",
       "<style scoped>\n",
       "    .dataframe tbody tr th:only-of-type {\n",
       "        vertical-align: middle;\n",
       "    }\n",
       "\n",
       "    .dataframe tbody tr th {\n",
       "        vertical-align: top;\n",
       "    }\n",
       "\n",
       "    .dataframe thead th {\n",
       "        text-align: right;\n",
       "    }\n",
       "</style>\n",
       "<table border=\"1\" class=\"dataframe\">\n",
       "  <thead>\n",
       "    <tr style=\"text-align: right;\">\n",
       "      <th></th>\n",
       "      <th></th>\n",
       "      <th>A</th>\n",
       "      <th>B</th>\n",
       "      <th>C</th>\n",
       "    </tr>\n",
       "    <tr>\n",
       "      <th>first</th>\n",
       "      <th>second</th>\n",
       "      <th></th>\n",
       "      <th></th>\n",
       "      <th></th>\n",
       "    </tr>\n",
       "  </thead>\n",
       "  <tbody>\n",
       "    <tr>\n",
       "      <th rowspan=\"2\" valign=\"top\">bar</th>\n",
       "      <th>one</th>\n",
       "      <td>-0.406563</td>\n",
       "      <td>-0.504170</td>\n",
       "      <td>-0.939448</td>\n",
       "    </tr>\n",
       "    <tr>\n",
       "      <th>two</th>\n",
       "      <td>0.282464</td>\n",
       "      <td>1.581692</td>\n",
       "      <td>0.124740</td>\n",
       "    </tr>\n",
       "    <tr>\n",
       "      <th rowspan=\"2\" valign=\"top\">baz</th>\n",
       "      <th>one</th>\n",
       "      <td>-0.653776</td>\n",
       "      <td>0.720427</td>\n",
       "      <td>1.735456</td>\n",
       "    </tr>\n",
       "    <tr>\n",
       "      <th>two</th>\n",
       "      <td>0.506109</td>\n",
       "      <td>-0.255626</td>\n",
       "      <td>-1.100567</td>\n",
       "    </tr>\n",
       "    <tr>\n",
       "      <th rowspan=\"2\" valign=\"top\">foo</th>\n",
       "      <th>one</th>\n",
       "      <td>-1.347461</td>\n",
       "      <td>1.619344</td>\n",
       "      <td>-1.469486</td>\n",
       "    </tr>\n",
       "    <tr>\n",
       "      <th>two</th>\n",
       "      <td>1.259628</td>\n",
       "      <td>0.685056</td>\n",
       "      <td>1.415631</td>\n",
       "    </tr>\n",
       "    <tr>\n",
       "      <th rowspan=\"2\" valign=\"top\">qux</th>\n",
       "      <th>one</th>\n",
       "      <td>-0.379995</td>\n",
       "      <td>0.702980</td>\n",
       "      <td>0.336124</td>\n",
       "    </tr>\n",
       "    <tr>\n",
       "      <th>two</th>\n",
       "      <td>1.170669</td>\n",
       "      <td>1.112232</td>\n",
       "      <td>0.706292</td>\n",
       "    </tr>\n",
       "  </tbody>\n",
       "</table>\n",
       "</div>"
      ],
      "text/plain": [
       "                     A         B         C\n",
       "first second                              \n",
       "bar   one    -0.406563 -0.504170 -0.939448\n",
       "      two     0.282464  1.581692  0.124740\n",
       "baz   one    -0.653776  0.720427  1.735456\n",
       "      two     0.506109 -0.255626 -1.100567\n",
       "foo   one    -1.347461  1.619344 -1.469486\n",
       "      two     1.259628  0.685056  1.415631\n",
       "qux   one    -0.379995  0.702980  0.336124\n",
       "      two     1.170669  1.112232  0.706292"
      ]
     },
     "execution_count": 60,
     "metadata": {},
     "output_type": "execute_result"
    }
   ],
   "source": [
    "df"
   ]
  },
  {
   "cell_type": "code",
   "execution_count": 61,
   "id": "41a7f490-dd1a-42a6-bb45-a6a3647f01ff",
   "metadata": {},
   "outputs": [],
   "source": [
    "s = pd.Series(np.random.randn(5), index=['a', 'b', 'c', 'd', 'e'])"
   ]
  },
  {
   "cell_type": "code",
   "execution_count": 62,
   "id": "b38046f5-b34b-41d2-9178-1d80acc36927",
   "metadata": {},
   "outputs": [
    {
     "data": {
      "text/plain": [
       "a    0.004873\n",
       "b   -0.330047\n",
       "c    1.101108\n",
       "d   -0.553154\n",
       "e   -0.513950\n",
       "dtype: float64"
      ]
     },
     "execution_count": 62,
     "metadata": {},
     "output_type": "execute_result"
    }
   ],
   "source": [
    "s"
   ]
  },
  {
   "cell_type": "code",
   "execution_count": 63,
   "id": "dba30c7e-f94d-4f9d-a11c-dea98e10e0fd",
   "metadata": {},
   "outputs": [
    {
     "data": {
      "text/plain": [
       "array([ 0.00487279, -0.3300465 ,  1.10110785, -0.55315407, -0.5139499 ])"
      ]
     },
     "execution_count": 63,
     "metadata": {},
     "output_type": "execute_result"
    }
   ],
   "source": [
    "np.asarray(s)"
   ]
  },
  {
   "cell_type": "code",
   "execution_count": 64,
   "id": "d9431c56-518b-4f58-9912-acfa6158e262",
   "metadata": {},
   "outputs": [
    {
     "data": {
      "text/plain": [
       "a    0.004873\n",
       "b   -0.330047\n",
       "c    1.101108\n",
       "d   -0.553154\n",
       "e   -0.513950\n",
       "dtype: float64"
      ]
     },
     "execution_count": 64,
     "metadata": {},
     "output_type": "execute_result"
    }
   ],
   "source": [
    "s"
   ]
  },
  {
   "cell_type": "code",
   "execution_count": 65,
   "id": "bec7747d-37d8-4a1a-b36e-f0b2bdc248b6",
   "metadata": {},
   "outputs": [],
   "source": [
    "df = pd.DataFrame({\n",
    "   ....:     'one': pd.Series(np.random.randn(3), index=['a', 'b', 'c']),\n",
    "   ....:     'two': pd.Series(np.random.randn(4), index=['a', 'b', 'c', 'd']),\n",
    "   ....:     'three': pd.Series(np.random.randn(3), index=['b', 'c', 'd'])})"
   ]
  },
  {
   "cell_type": "code",
   "execution_count": 66,
   "id": "85da7491-652d-436f-ba79-936455d9544b",
   "metadata": {},
   "outputs": [
    {
     "data": {
      "text/html": [
       "<div>\n",
       "<style scoped>\n",
       "    .dataframe tbody tr th:only-of-type {\n",
       "        vertical-align: middle;\n",
       "    }\n",
       "\n",
       "    .dataframe tbody tr th {\n",
       "        vertical-align: top;\n",
       "    }\n",
       "\n",
       "    .dataframe thead th {\n",
       "        text-align: right;\n",
       "    }\n",
       "</style>\n",
       "<table border=\"1\" class=\"dataframe\">\n",
       "  <thead>\n",
       "    <tr style=\"text-align: right;\">\n",
       "      <th></th>\n",
       "      <th>one</th>\n",
       "      <th>two</th>\n",
       "      <th>three</th>\n",
       "    </tr>\n",
       "  </thead>\n",
       "  <tbody>\n",
       "    <tr>\n",
       "      <th>a</th>\n",
       "      <td>-0.071154</td>\n",
       "      <td>-3.009827</td>\n",
       "      <td>NaN</td>\n",
       "    </tr>\n",
       "    <tr>\n",
       "      <th>b</th>\n",
       "      <td>0.691790</td>\n",
       "      <td>0.693787</td>\n",
       "      <td>0.353981</td>\n",
       "    </tr>\n",
       "    <tr>\n",
       "      <th>c</th>\n",
       "      <td>-0.570818</td>\n",
       "      <td>-1.524543</td>\n",
       "      <td>0.336828</td>\n",
       "    </tr>\n",
       "    <tr>\n",
       "      <th>d</th>\n",
       "      <td>NaN</td>\n",
       "      <td>0.042659</td>\n",
       "      <td>-0.657227</td>\n",
       "    </tr>\n",
       "  </tbody>\n",
       "</table>\n",
       "</div>"
      ],
      "text/plain": [
       "        one       two     three\n",
       "a -0.071154 -3.009827       NaN\n",
       "b  0.691790  0.693787  0.353981\n",
       "c -0.570818 -1.524543  0.336828\n",
       "d       NaN  0.042659 -0.657227"
      ]
     },
     "execution_count": 66,
     "metadata": {},
     "output_type": "execute_result"
    }
   ],
   "source": [
    "df"
   ]
  },
  {
   "cell_type": "code",
   "execution_count": 67,
   "id": "d302ef03-6ad0-450c-ad3d-df38d91593b2",
   "metadata": {},
   "outputs": [],
   "source": [
    "df.index = pd.MultiIndex.from_tuples([(1, 'a'), (1, 'b'),\n",
    "   ....:                                         (1, 'c'), (2, 'a')],\n",
    "   ....:                                        names=['first', 'second'])"
   ]
  },
  {
   "cell_type": "code",
   "execution_count": 68,
   "id": "0acbd974-70da-447e-9cb5-04ebfbea51f4",
   "metadata": {},
   "outputs": [
    {
     "data": {
      "text/html": [
       "<div>\n",
       "<style scoped>\n",
       "    .dataframe tbody tr th:only-of-type {\n",
       "        vertical-align: middle;\n",
       "    }\n",
       "\n",
       "    .dataframe tbody tr th {\n",
       "        vertical-align: top;\n",
       "    }\n",
       "\n",
       "    .dataframe thead th {\n",
       "        text-align: right;\n",
       "    }\n",
       "</style>\n",
       "<table border=\"1\" class=\"dataframe\">\n",
       "  <thead>\n",
       "    <tr style=\"text-align: right;\">\n",
       "      <th></th>\n",
       "      <th></th>\n",
       "      <th>one</th>\n",
       "      <th>two</th>\n",
       "      <th>three</th>\n",
       "    </tr>\n",
       "    <tr>\n",
       "      <th>first</th>\n",
       "      <th>second</th>\n",
       "      <th></th>\n",
       "      <th></th>\n",
       "      <th></th>\n",
       "    </tr>\n",
       "  </thead>\n",
       "  <tbody>\n",
       "    <tr>\n",
       "      <th rowspan=\"3\" valign=\"top\">1</th>\n",
       "      <th>a</th>\n",
       "      <td>-0.071154</td>\n",
       "      <td>-3.009827</td>\n",
       "      <td>NaN</td>\n",
       "    </tr>\n",
       "    <tr>\n",
       "      <th>b</th>\n",
       "      <td>0.691790</td>\n",
       "      <td>0.693787</td>\n",
       "      <td>0.353981</td>\n",
       "    </tr>\n",
       "    <tr>\n",
       "      <th>c</th>\n",
       "      <td>-0.570818</td>\n",
       "      <td>-1.524543</td>\n",
       "      <td>0.336828</td>\n",
       "    </tr>\n",
       "    <tr>\n",
       "      <th>2</th>\n",
       "      <th>a</th>\n",
       "      <td>NaN</td>\n",
       "      <td>0.042659</td>\n",
       "      <td>-0.657227</td>\n",
       "    </tr>\n",
       "  </tbody>\n",
       "</table>\n",
       "</div>"
      ],
      "text/plain": [
       "                   one       two     three\n",
       "first second                              \n",
       "1     a      -0.071154 -3.009827       NaN\n",
       "      b       0.691790  0.693787  0.353981\n",
       "      c      -0.570818 -1.524543  0.336828\n",
       "2     a            NaN  0.042659 -0.657227"
      ]
     },
     "execution_count": 68,
     "metadata": {},
     "output_type": "execute_result"
    }
   ],
   "source": [
    "df"
   ]
  },
  {
   "cell_type": "code",
   "execution_count": 71,
   "id": "5c824f24-f36e-4032-a91f-5d8b49353ef4",
   "metadata": {},
   "outputs": [
    {
     "data": {
      "text/html": [
       "<div>\n",
       "<style scoped>\n",
       "    .dataframe tbody tr th:only-of-type {\n",
       "        vertical-align: middle;\n",
       "    }\n",
       "\n",
       "    .dataframe tbody tr th {\n",
       "        vertical-align: top;\n",
       "    }\n",
       "\n",
       "    .dataframe thead th {\n",
       "        text-align: right;\n",
       "    }\n",
       "</style>\n",
       "<table border=\"1\" class=\"dataframe\">\n",
       "  <thead>\n",
       "    <tr style=\"text-align: right;\">\n",
       "      <th></th>\n",
       "      <th></th>\n",
       "      <th>one</th>\n",
       "      <th>two</th>\n",
       "      <th>three</th>\n",
       "    </tr>\n",
       "    <tr>\n",
       "      <th>first</th>\n",
       "      <th>second</th>\n",
       "      <th></th>\n",
       "      <th></th>\n",
       "      <th></th>\n",
       "    </tr>\n",
       "  </thead>\n",
       "  <tbody>\n",
       "    <tr>\n",
       "      <th rowspan=\"3\" valign=\"top\">1</th>\n",
       "      <th>a</th>\n",
       "      <td>2.938673</td>\n",
       "      <td>0.0</td>\n",
       "      <td>NaN</td>\n",
       "    </tr>\n",
       "    <tr>\n",
       "      <th>b</th>\n",
       "      <td>-0.001998</td>\n",
       "      <td>0.0</td>\n",
       "      <td>-0.339806</td>\n",
       "    </tr>\n",
       "    <tr>\n",
       "      <th>c</th>\n",
       "      <td>0.953724</td>\n",
       "      <td>0.0</td>\n",
       "      <td>1.861370</td>\n",
       "    </tr>\n",
       "    <tr>\n",
       "      <th>2</th>\n",
       "      <th>a</th>\n",
       "      <td>NaN</td>\n",
       "      <td>0.0</td>\n",
       "      <td>-0.699886</td>\n",
       "    </tr>\n",
       "  </tbody>\n",
       "</table>\n",
       "</div>"
      ],
      "text/plain": [
       "                   one  two     three\n",
       "first second                         \n",
       "1     a       2.938673  0.0       NaN\n",
       "      b      -0.001998  0.0 -0.339806\n",
       "      c       0.953724  0.0  1.861370\n",
       "2     a            NaN  0.0 -0.699886"
      ]
     },
     "execution_count": 71,
     "metadata": {},
     "output_type": "execute_result"
    }
   ],
   "source": [
    "df.sub(column, axis=0, level='second')"
   ]
  },
  {
   "cell_type": "code",
   "execution_count": 70,
   "id": "21c9816b-4a05-4005-9095-ef55364b542f",
   "metadata": {},
   "outputs": [],
   "source": [
    "column = df['two']"
   ]
  },
  {
   "cell_type": "code",
   "execution_count": 72,
   "id": "27061cfb-f5ff-4631-a623-ce97d14fc725",
   "metadata": {},
   "outputs": [],
   "source": [
    "arr = np.random.randn(20)"
   ]
  },
  {
   "cell_type": "code",
   "execution_count": 73,
   "id": "de1c95d5-2ed9-460c-8500-002afaf2f573",
   "metadata": {},
   "outputs": [
    {
     "data": {
      "text/plain": [
       "array([-2.10450776,  0.64817599, -0.49931026, -1.27166525,  0.07243765,\n",
       "       -1.37438434, -0.34739299, -0.32440314,  0.54803656, -0.22805079,\n",
       "        0.46056383, -1.16942474,  1.65669232, -1.20695969,  1.18421156,\n",
       "        1.82712818, -0.08524515,  0.1570885 , -0.77961161, -0.73236423])"
      ]
     },
     "execution_count": 73,
     "metadata": {},
     "output_type": "execute_result"
    }
   ],
   "source": [
    "arr"
   ]
  },
  {
   "cell_type": "code",
   "execution_count": 78,
   "id": "9164f134-5c9d-4d3a-9616-2b2a2307e31a",
   "metadata": {},
   "outputs": [],
   "source": [
    "factor = pd.cut(arr, 4)"
   ]
  },
  {
   "cell_type": "code",
   "execution_count": 79,
   "id": "6bfdf715-f46f-4a8d-9556-c24f0b2465d0",
   "metadata": {},
   "outputs": [
    {
     "data": {
      "text/plain": [
       "[(-2.108, -1.122], (-0.139, 0.844], (-1.122, -0.139], (-2.108, -1.122], (-0.139, 0.844], ..., (0.844, 1.827], (-0.139, 0.844], (-0.139, 0.844], (-1.122, -0.139], (-1.122, -0.139]]\n",
       "Length: 20\n",
       "Categories (4, interval[float64, right]): [(-2.108, -1.122] < (-1.122, -0.139] < (-0.139, 0.844] < (0.844, 1.827]]"
      ]
     },
     "execution_count": 79,
     "metadata": {},
     "output_type": "execute_result"
    }
   ],
   "source": [
    "factor"
   ]
  },
  {
   "cell_type": "code",
   "execution_count": 80,
   "id": "2aa3b660-8726-4d6a-a2c5-c59adafcbdf5",
   "metadata": {},
   "outputs": [
    {
     "name": "stdout",
     "output_type": "stream",
     "text": [
      "Input array: [2, 3, 4, 5, 6]\n",
      "The number which we want to insert: 4\n",
      "Output indices to maintain sorted array: 2\n"
     ]
    }
   ],
   "source": [
    "in_arr = [2, 3, 4, 5, 6] \n",
    "print (\"Input array:\", in_arr) \n",
    "  \n",
    "# the number which we want to insert \n",
    "num = 4\n",
    "print(\"The number which we want to insert:\", num)  \n",
    "    \n",
    "out_ind = np.searchsorted(in_arr, num)  \n",
    "print (\"Output indices to maintain sorted array:\", out_ind)"
   ]
  },
  {
   "cell_type": "code",
   "execution_count": 85,
   "id": "e2b2134f-85d7-4ece-8b8c-b3c17c54cd80",
   "metadata": {},
   "outputs": [
    {
     "name": "stdout",
     "output_type": "stream",
     "text": [
      "Input array: [2, 3, 4, 5, 6]\n",
      "The number which we want to insert: [8]\n",
      "Output indices to maintain sorted array: [5]\n"
     ]
    }
   ],
   "source": [
    "# input array \n",
    "in_arr = [2, 3, 4, 5, 6] \n",
    "print (\"Input array:\", in_arr) \n",
    "  \n",
    "# the numbers which we want to insert \n",
    "num = [8]\n",
    "print(\"The number which we want to insert:\", num)    \n",
    "  \n",
    "out_ind = np.searchsorted(in_arr, num)  \n",
    "print (\"Output indices to maintain sorted array:\", out_ind)"
   ]
  },
  {
   "cell_type": "code",
   "execution_count": 86,
   "id": "dc0a6f2b-7f7f-4ff8-90ed-8b5417fb2f6f",
   "metadata": {},
   "outputs": [],
   "source": [
    "df2 = pd.DataFrame({'A': 1.,\n",
    "   ...:                     'B': pd.Timestamp('20130102'),\n",
    "   ...:                     'C': pd.Series(1, index=list(range(4)), dtype='float32'),\n",
    "   ...:                     'D': np.array([3] * 4, dtype='int32'),\n",
    "   ...:                     'E': pd.Categorical([\"test\", \"train\", \"test\", \"train\"]),\n",
    "   ...:                     'F': 'foo'})"
   ]
  },
  {
   "cell_type": "code",
   "execution_count": 87,
   "id": "c9af1a67-2133-4925-8c7d-65eea2a40910",
   "metadata": {},
   "outputs": [
    {
     "data": {
      "text/html": [
       "<div>\n",
       "<style scoped>\n",
       "    .dataframe tbody tr th:only-of-type {\n",
       "        vertical-align: middle;\n",
       "    }\n",
       "\n",
       "    .dataframe tbody tr th {\n",
       "        vertical-align: top;\n",
       "    }\n",
       "\n",
       "    .dataframe thead th {\n",
       "        text-align: right;\n",
       "    }\n",
       "</style>\n",
       "<table border=\"1\" class=\"dataframe\">\n",
       "  <thead>\n",
       "    <tr style=\"text-align: right;\">\n",
       "      <th></th>\n",
       "      <th>A</th>\n",
       "      <th>B</th>\n",
       "      <th>C</th>\n",
       "      <th>D</th>\n",
       "      <th>E</th>\n",
       "      <th>F</th>\n",
       "    </tr>\n",
       "  </thead>\n",
       "  <tbody>\n",
       "    <tr>\n",
       "      <th>0</th>\n",
       "      <td>1.0</td>\n",
       "      <td>2013-01-02</td>\n",
       "      <td>1.0</td>\n",
       "      <td>3</td>\n",
       "      <td>test</td>\n",
       "      <td>foo</td>\n",
       "    </tr>\n",
       "    <tr>\n",
       "      <th>1</th>\n",
       "      <td>1.0</td>\n",
       "      <td>2013-01-02</td>\n",
       "      <td>1.0</td>\n",
       "      <td>3</td>\n",
       "      <td>train</td>\n",
       "      <td>foo</td>\n",
       "    </tr>\n",
       "    <tr>\n",
       "      <th>2</th>\n",
       "      <td>1.0</td>\n",
       "      <td>2013-01-02</td>\n",
       "      <td>1.0</td>\n",
       "      <td>3</td>\n",
       "      <td>test</td>\n",
       "      <td>foo</td>\n",
       "    </tr>\n",
       "    <tr>\n",
       "      <th>3</th>\n",
       "      <td>1.0</td>\n",
       "      <td>2013-01-02</td>\n",
       "      <td>1.0</td>\n",
       "      <td>3</td>\n",
       "      <td>train</td>\n",
       "      <td>foo</td>\n",
       "    </tr>\n",
       "  </tbody>\n",
       "</table>\n",
       "</div>"
      ],
      "text/plain": [
       "     A          B    C  D      E    F\n",
       "0  1.0 2013-01-02  1.0  3   test  foo\n",
       "1  1.0 2013-01-02  1.0  3  train  foo\n",
       "2  1.0 2013-01-02  1.0  3   test  foo\n",
       "3  1.0 2013-01-02  1.0  3  train  foo"
      ]
     },
     "execution_count": 87,
     "metadata": {},
     "output_type": "execute_result"
    }
   ],
   "source": [
    "df2"
   ]
  },
  {
   "cell_type": "code",
   "execution_count": null,
   "id": "7eaf09ec-b772-4570-8fe4-292944f5bd17",
   "metadata": {},
   "outputs": [],
   "source": []
  }
 ],
 "metadata": {
  "kernelspec": {
   "display_name": "Python 3 (ipykernel)",
   "language": "python",
   "name": "python3"
  },
  "language_info": {
   "codemirror_mode": {
    "name": "ipython",
    "version": 3
   },
   "file_extension": ".py",
   "mimetype": "text/x-python",
   "name": "python",
   "nbconvert_exporter": "python",
   "pygments_lexer": "ipython3",
   "version": "3.9.12"
  }
 },
 "nbformat": 4,
 "nbformat_minor": 5
}
