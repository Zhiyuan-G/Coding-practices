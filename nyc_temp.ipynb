{
 "cells": [
  {
   "cell_type": "code",
   "execution_count": 326,
   "id": "c1b0489f-0820-49e8-8d07-178c96bb2c5b",
   "metadata": {},
   "outputs": [],
   "source": [
    "import numpy as np\n",
    "import csv\n",
    "from numpy import genfromtxt\n",
    "def main (f_name):\n",
    "    \n",
    "    with open(f_name, newline='') as csvfile:\n",
    "        reader = csv.DictReader(csvfile)\n",
    "        header = reader.fieldnames\n",
    "    my_data = genfromtxt(f_name, delimiter=',',skip_header = 1)\n",
    "    \n",
    "    return(header,my_data)"
   ]
  },
  {
   "cell_type": "code",
   "execution_count": 327,
   "id": "70ca4d98-3ae8-408a-8873-22ea92dc6a28",
   "metadata": {},
   "outputs": [],
   "source": [
    "name,temp_data = main('data/case2.csv')"
   ]
  },
  {
   "cell_type": "code",
   "execution_count": 328,
   "id": "d1cfb570-f397-4fc2-8138-5a75e20bc2a0",
   "metadata": {},
   "outputs": [],
   "source": [
    "def calc(name,temp_data):\n",
    "    n_row = temp_data.shape[0]\n",
    "    n_col = temp_data.shape[1]\n",
    "    # Q1\n",
    "    mean = np.mean(temp_data,axis=0)\n",
    "    std = np.sum((temp_data-mean)**2,axis = 0)\n",
    "    Q1_std_max_idx = np.argmax(std)\n",
    "    print(name[Q1_std_max_idx])\n",
    "    \n",
    "    # Q2\n",
    "    mask = (temp_data[:,1] >= 90) & (temp_data[:,1] <= 100)\n",
    "    Q2_NYC_median = np.mean(temp_data[:,-1][mask])\n",
    "    print(round(Q2_NYC_median))\n",
    "\n",
    "    #Q3\n",
    "    n_pts = n_row\n",
    "    x = np.linspace(0,n_pts-1,n_pts)\n",
    "    xy_sum = np.sum(np.multiply(temp_data, x[:, np.newaxis]),axis = 0)\n",
    "    x_sum = np.sum(x)\n",
    "    y_sum = np.sum(temp_data,axis = 0)\n",
    "    x2_sum = np.sum(x**2)\n",
    "    x_sum_2 = x_sum**2\n",
    "    m = (n_pts*xy_sum - x_sum*y_sum)/(n_pts*x2_sum-x_sum_2)\n",
    "    b = (y_sum*x2_sum-x_sum*xy_sum)/(n_pts*x2_sum-x_sum_2)\n",
    "    b = (y_sum - m*x_sum)/n_pts\n",
    "    print(abs(np.sum((m[:-1]))))\n",
    "        \n",
    "    #Q4\n",
    "    prediction = np.ones(shape = (len(name)-1,n_pts))*x\n",
    "    prediction = np.add(np.multiply(prediction,m[:-1,np.newaxis]),b[:-1,np.newaxis])\n",
    "    res = np.sum((prediction - temp_data[:,-1])**2,axis = 1)/n_pts\n",
    "    idx = np.argmin(res)\n",
    "    print(name[idx])\n",
    "    \n",
    "    #Q5\n",
    "    slope = []\n",
    "    intercept = []\n",
    "    comb = []\n",
    "    \n",
    "    for i in range(ncol-1):\n",
    "        for k in range(ncol-1-i):\n",
    "            j = i+k+1\n",
    "            X = np.append(x,x)\n",
    "            Y = np.append(temp_data[:,i],temp_data[:,j])\n",
    "            def f(x, A, B): # this is your 'straight line' y=f(x)\n",
    "                return A*x + B\n",
    "            popt, pcov = curve_fit(f, X, Y) # your data x, y to fit\n",
    "            slope.append(popt[0])\n",
    "            intercept.append(popt[0])\n",
    "            comb.append([i,j])\n",
    "\n",
    "    slope = np.array(slope)\n",
    "    intercept = np.array(intercept)\n",
    "    \n",
    "    prediction = np.ones(shape = (10,n_pts))*x\n",
    "    prediction = np.add(np.multiply(prediction,slope[:,np.newaxis]),intercept[:,np.newaxis])\n",
    "    res = np.sum((prediction - temp_data[:,-1])**2,axis = 1)/n_pts\n",
    "    idx = np.argmin(res)\n",
    "    print(name[comb[idx][0]],name[comb[idx][1]])\n",
    "    "
   ]
  },
  {
   "cell_type": "code",
   "execution_count": 329,
   "id": "3082f214-2453-44db-a981-feed7f167aba",
   "metadata": {},
   "outputs": [
    {
     "name": "stdout",
     "output_type": "stream",
     "text": [
      "Town3\n",
      "38\n",
      "16.6\n",
      "Town3\n",
      "Town2 Town4\n"
     ]
    }
   ],
   "source": [
    "calc(name,temp_data)"
   ]
  },
  {
   "cell_type": "code",
   "execution_count": null,
   "id": "cf2ef0c0-7b19-4886-ace8-a6dd4737e257",
   "metadata": {},
   "outputs": [],
   "source": []
  }
 ],
 "metadata": {
  "kernelspec": {
   "display_name": "local-venv",
   "language": "python",
   "name": "local-venv"
  },
  "language_info": {
   "codemirror_mode": {
    "name": "ipython",
    "version": 3
   },
   "file_extension": ".py",
   "mimetype": "text/x-python",
   "name": "python",
   "nbconvert_exporter": "python",
   "pygments_lexer": "ipython3",
   "version": "3.10.5"
  }
 },
 "nbformat": 4,
 "nbformat_minor": 5
}
