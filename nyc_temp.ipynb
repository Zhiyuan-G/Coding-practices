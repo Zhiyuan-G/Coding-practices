{
 "cells": [
  {
   "cell_type": "code",
   "execution_count": 2,
   "id": "d0f69107-336e-403b-9953-7e648ea673e3",
   "metadata": {},
   "outputs": [],
   "source": [
    "import astroML"
   ]
  },
  {
   "cell_type": "code",
   "execution_count": 4,
   "id": "1014fecb-fa04-46dd-ab96-265e15774016",
   "metadata": {},
   "outputs": [],
   "source": [
    "from sklearn.mixture import GaussianMixture"
   ]
  },
  {
   "cell_type": "code",
   "execution_count": null,
   "id": "e3b4a4c2-3b04-405a-a4bc-2cb4edf5e589",
   "metadata": {},
   "outputs": [],
   "source": []
  }
 ],
 "metadata": {
  "kernelspec": {
   "display_name": "astroml",
   "language": "python",
   "name": "astroml"
  },
  "language_info": {
   "codemirror_mode": {
    "name": "ipython",
    "version": 3
   },
   "file_extension": ".py",
   "mimetype": "text/x-python",
   "name": "python",
   "nbconvert_exporter": "python",
   "pygments_lexer": "ipython3",
   "version": "3.10.5"
  }
 },
 "nbformat": 4,
 "nbformat_minor": 5
}
